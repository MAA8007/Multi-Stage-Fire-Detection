{
  "cells": [
    {
      "cell_type": "markdown",
      "metadata": {
        "id": "WamvS5Ji9uZ-"
      },
      "source": [
        "# Stubble Burning Prediction\n",
        "\n",
        "In order to fully understand the improvemnets that we've made, it is imperative to note the significant changes to our data collection process too. Initially, for the baseline, as highlighted in the previous deliverables, we were just using Sentinel-2 data from a fixed date to another fixed date. In this improvement, we have retrieved, for each location, both SAR data and the Sentinel-2 data. The SAR data is incredibly helpful, since it can penetrate through clouds etc. Additionally, since our task has pivoted from Burn Detection, to predicting where burning might take place (hence the Early Warning System), we started collecting data for each point from June 1 to the date of burning - 10 days for a burned sample, while the data for an unburned sample cuts off at September 15. \n",
        "\n",
        "As for the improvemnts to our model, we are now using a Dual input Transformer, utilising both the SAR and S2 data, instead of the Vanilla, single input transformer utilised in the baseline. You might be wondering, why didn't we make our lives simpler by just fusing the datasets together, via the unique IDs? Well, firstly, the satellites that capture SAR and S2 data do not orbit over a single location at the same time. Furthermore, as mentioned above, various factors, such as high cloud cover may render many S2 samples to be useless. If the cloud cover in a sample was higher than 40%, it was not included in the dataset, since that woudl significantly distort the metrics that the S2 satellites provide. Therefore, if we were to merge the datasets, a lot of SAR samples would have to be discarded too, resulting in further loss of the already very limited data points.\n",
        "\n",
        "Upon implementing the transformer, we realised the model was overfitting quite drastically, with a test accuracy of around 70% only. Therefore, we made the model a bit more complex by adding various things, namely dropout and regularization, the results of which are markedly better. To show the effectiveness of our transformer, we have compared its results with a Random Forest model. Additionally, instead of splitting the data randomly, we have utilised a Temporal Split, where we're training on the data from 2019-2022, validating on 2023, and testing on 2024, to ensure that the model is not memorizing year specific patterns and is actually generalizing well to a future date. \n",
        "\n",
        "**Outline:**\n",
        "1. Setup & Configuration  \n",
        "2. Data Loading  \n",
        "3. Temporal Split  \n",
        "4. Date Cutoff  \n",
        "5. Sequence Creation & Scaling  \n",
        "6. RF Feature Engineering  \n",
        "7. Index Splitting  \n",
        "8. Random Forest Training & Evaluation  \n",
        "9. Transformer Definition & Training  \n"
      ]
    },
    {
      "cell_type": "markdown",
      "metadata": {
        "id": "adQfZcsU9zqD"
      },
      "source": [
        "## 1. Setup & Configuration"
      ]
    },
    {
      "cell_type": "code",
      "execution_count": 124,
      "metadata": {
        "colab": {
          "base_uri": "https://localhost:8080/"
        },
        "id": "kwgMsWHu90qU",
        "outputId": "71936713-390d-40fd-aa7b-186241b33793"
      },
      "outputs": [
        {
          "name": "stdout",
          "output_type": "stream",
          "text": [
            "Configuration:\n",
            " DATA_DIR=/Users/muhammadarsalanamjad/Library/Mobile Documents/com~apple~CloudDocs/Studies/LUMS STUDIES/spring25/dl/project/improvement_1/imp1FINALDS\n",
            " Years=[2019, 2020, 2021, 2022, 2023, 2024]\n",
            " RF trees=200, depth=15\n",
            " Transformer heads=2, layers=1\n"
          ]
        }
      ],
      "source": [
        "import os, glob, re, gc, math\n",
        "import pandas as pd\n",
        "import numpy as np\n",
        "import matplotlib.pyplot as plt\n",
        "import seaborn as sns\n",
        "from sklearn.preprocessing import StandardScaler\n",
        "from sklearn.impute import SimpleImputer\n",
        "from sklearn.ensemble import RandomForestClassifier\n",
        "from sklearn.metrics import classification_report, confusion_matrix, accuracy_score, f1_score\n",
        "import tensorflow as tf\n",
        "from tensorflow.keras.metrics import Precision, Recall\n",
        "from tensorflow.keras.models import Model, Sequential\n",
        "from tensorflow.keras.layers import (\n",
        "    Input, Dense, Dropout,\n",
        "    Concatenate, LayerNormalization,\n",
        "    MultiHeadAttention, GlobalAveragePooling1D,\n",
        "    TimeDistributed, Lambda, Add\n",
        ")\n",
        "from tensorflow.keras.preprocessing.sequence import pad_sequences\n",
        "from tensorflow.keras.callbacks import EarlyStopping, ReduceLROnPlateau\n",
        "from tensorflow.keras import regularizers\n",
        "from sklearn.model_selection import train_test_split\n",
        "#import Layer frm tf.keras.layers please:\n",
        "from tensorflow.keras.layers import Layer\n",
        "\n",
        "\n",
        "DATA_DIR = '/Users/muhammadarsalanamjad/Library/Mobile Documents/com~apple~CloudDocs/Studies/LUMS STUDIES/spring25/dl/project/improvement_1/imp1FINALDS'\n",
        "YEARS     = [2019,2020,2021,2022,2023,2024]\n",
        "TRAIN_YEARS, VAL_YEARS, TEST_YEARS = [2019,2020,2021,2022], [2024], [2023]\n",
        "\n",
        "S2_BANDS   = ['B2','B3','B4','B5','B6','B7','B8','B8A','B11','B12']\n",
        "S2_INDICES = ['NDVI','NDWI','NDRE','MSAVI','SAVI','NBR','BAIS2']\n",
        "S2_FEATURES_NUM = S2_BANDS + S2_INDICES\n",
        "\n",
        "\n",
        "SAR_BACK = ['VV','VH']\n",
        "SAR_RATIOS  = ['RFDI','RVI']\n",
        "SAR_TEXTURE = ['VH_contrast','VH_entropy','VV_contrast']\n",
        "SAR_FEATURES_NUM = SAR_BACK + SAR_RATIOS + SAR_TEXTURE\n",
        "\n",
        "ITEM_ID_COL    = 'item_id'\n",
        "DATE_COL       = 'date'\n",
        "TARGET_COL     = 'burn_status'\n",
        "PAD_VALUE      = 0.0\n",
        "MAX_SEQ_LEN_S2 = 30\n",
        "MAX_SEQ_LEN_SAR= 60\n",
        "\n",
        "RF_N_ESTIMATORS=200\n",
        "RF_MAX_DEPTH=15\n",
        "RF_RANDOM_STATE=42\n",
        "TRANSFORMER_HEADS=2\n",
        "TRANSFORMER_UNITS=128\n",
        "TRANSFORMER_LAYERS=1\n",
        "DROPOUT_RATE=0.4\n",
        "LEARNING_RATE=5e-4\n",
        "BATCH_SIZE=32\n",
        "EPOCHS=25\n",
        "PATIENCE=10\n",
        "L2_REG_FACTOR=1e-3\n",
        "\n",
        "results = {}\n",
        "N_S2_FEATURES_ACTUAL = 0\n",
        "N_SAR_FEATURES_ACTUAL= 0\n",
        "\n",
        "print(f\"Configuration:\\n DATA_DIR={DATA_DIR}\\n Years={YEARS}\\n RF trees={RF_N_ESTIMATORS}, depth={RF_MAX_DEPTH}\\n Transformer heads={TRANSFORMER_HEADS}, layers={TRANSFORMER_LAYERS}\")\n"
      ]
    },
    {
      "cell_type": "markdown",
      "metadata": {
        "id": "CNQFGD3v-TEj"
      },
      "source": [
        "## 2. Data Loading & Initial Inspection\n",
        "\n",
        "This cell pulls in all of our pre‑processed CSVs, tags each record with:\n",
        "\n",
        "- **Year** and **burn_status** (1 = Burned, 0 = Unburned)  \n",
        "- **Sensor** type (S2 or SAR)  \n",
        "- A unique **item_id** combining year and point identifier  \n",
        "\n",
        "It then concatenates everything into one master DataFrame and immediately splits into two tables:\n",
        "\n",
        "- `df_s2` for Sentinel‑2 optical data  \n",
        "- `df_sar` for Sentinel‑1 radar data  \n",
        "\n",
        "Finally, it prints:\n",
        "\n",
        "- The number of files loaded (24)  \n",
        "- Total combined rows (114,443)  \n",
        "- The shapes of the S2 and SAR subsets  \n",
        "- Which columns (bands/indices or backscatter/texture) are available  \n",
        "\n",
        "This gives us a clear starting point—confirming that both modalities loaded correctly and showing the feature sets we’ll feed into our temporal models.  \n"
      ]
    },
    {
      "cell_type": "code",
      "execution_count": 125,
      "metadata": {
        "colab": {
          "base_uri": "https://localhost:8080/"
        },
        "id": "8rivh4FE-Uc0",
        "outputId": "5542f296-eda0-4dc7-befe-f372a98c6c1e"
      },
      "outputs": [
        {
          "name": "stdout",
          "output_type": "stream",
          "text": [
            "\n",
            "Loading CSVs from directory: /Users/muhammadarsalanamjad/Library/Mobile Documents/com~apple~CloudDocs/Studies/LUMS STUDIES/spring25/dl/project/improvement_1/imp1FINALDS...\n",
            " → Found 24 CSV files.\n",
            "\n",
            "Combining 24 loaded DataFrames...\n",
            "\n",
            "Finished Loading:\n",
            "  Total rows combined: 114443\n",
            "  S2 data shape: (55731, 35)\n",
            "  SAR data shape: (58712, 35)\n",
            "Using S2 cols: ['B2', 'B3', 'B4', 'B5', 'B6', 'B7', 'B8', 'B8A', 'B11', 'B12', 'NDVI', 'NDWI', 'NDRE', 'MSAVI', 'SAVI', 'NBR', 'BAIS2']\n",
            "Using SAR cols: ['VV', 'VH', 'RFDI', 'RVI', 'VH_contrast', 'VH_entropy', 'VV_contrast']\n"
          ]
        }
      ],
      "source": [
        "def load_and_prepare_data(data_directory):\n",
        "    all_dataframes = [] \n",
        "    print(f\"\\nLoading CSVs from directory: {data_directory}...\")\n",
        "\n",
        "    filename_pattern = re.compile(r\"(Burned|Unburned)_(S2|.*?SAR).*_(\\d{4})\\.csv\", re.IGNORECASE)\n",
        "\n",
        "    search_path = os.path.join(data_directory, \"*.csv\")\n",
        "    csv_files = glob.glob(search_path)\n",
        "    print(f\" → Found {len(csv_files)} CSV files.\")\n",
        "\n",
        "    loaded_count = 0\n",
        "    for file_path in csv_files:\n",
        "        filename = os.path.basename(file_path)\n",
        "\n",
        "        match = filename_pattern.match(filename)\n",
        "      \n",
        "\n",
        "        status_str, sensor_tag, year_str = match.groups()\n",
        "        year = int(year_str) \n",
        "\n",
        "        df = pd.read_csv(file_path)\n",
        "\n",
        "        df['year'] = year\n",
        "        df['burn_status'] = 1 if status_str.lower() == \"burned\" else 0\n",
        "        df['sensor'] = 'S2' if 'S2' in sensor_tag.upper() else 'SAR'\n",
        "\n",
        "        df[ITEM_ID_COL] = df['year'].astype(str) + \"_\" + df['point_id'].astype(str)\n",
        "        df.drop(columns=['point_id', 'location_id'], errors='ignore', inplace=True)\n",
        "\n",
        "        df[DATE_COL] = pd.to_datetime(df[DATE_COL])\n",
        "\n",
        "        all_dataframes.append(df)\n",
        "        loaded_count += 1\n",
        "\n",
        "\n",
        "    print(f\"\\nCombining {loaded_count} loaded DataFrames...\")\n",
        "    combined_df = pd.concat(all_dataframes, ignore_index=True)\n",
        "\n",
        "    df_s2 = combined_df[combined_df['sensor'] == 'S2'].copy()\n",
        "    df_sar = combined_df[combined_df['sensor'] == 'SAR'].copy()\n",
        "\n",
        "\n",
        "    print(f\"\\nFinished Loading:\")\n",
        "    print(f\"  Total rows combined: {len(df_s2) + len(df_sar)}\") # Recalculate from separated dfs\n",
        "    print(f\"  S2 data shape: {df_s2.shape}\")\n",
        "    print(f\"  SAR data shape: {df_sar.shape}\")\n",
        "\n",
        "    print(f\"Using S2 cols: {S2_FEATURES_NUM}\") \n",
        "    print(f\"Using SAR cols: {SAR_FEATURES_NUM}\")\n",
        "\n",
        "    return df_s2, df_sar\n",
        "\n",
        "df_s2, df_sar = load_and_prepare_data(DATA_DIR)"
      ]
    },
    {
      "cell_type": "markdown",
      "metadata": {
        "id": "8JbZj51U-cn4"
      },
      "source": [
        "## 3. Temporal Split\n",
        "\n",
        "Before modeling, we partition each unique field‐year time series (“item_id”) strictly by calendar year to avoid any look‑ahead leakage:\n",
        "\n",
        "1. **Identify common fields** that have both Sentinel‑2 and SAR data.  \n",
        "2. **Train on 2019–2022**: use historical seasons to learn general burn patterns.  \n",
        "3. **Validate on 2023**: tune hyperparameters on last year before test.  \n",
        "4. **Test on 2024**: simulate true forecasting on unseen season.  \n",
        "\n",
        "**Resulting split**  \n",
        "- **Total unique series**: 2102  \n",
        "- **Training** (2019–22): 1410 (≈ 67 %)  \n",
        "- **Validation** (2023): 350 (≈ 17 %)  \n",
        "- **Test** (2024): 342 (≈ 16 %)  \n",
        "\n",
        "This temporal hold‑out ensures our models generalize across years, mimicking real‑world deployment where tomorrow’s burn risk must be predicted from past seasons.  "
      ]
    },
    {
      "cell_type": "code",
      "execution_count": 126,
      "metadata": {
        "colab": {
          "base_uri": "https://localhost:8080/"
        },
        "id": "AUnFhsiZ-dJa",
        "outputId": "373fd830-245a-4e54-a3bc-09041ceba5e9"
      },
      "outputs": [
        {
          "name": "stdout",
          "output_type": "stream",
          "text": [
            "\n",
            "Temporal split:\n",
            " → Total IDs: 2102\n",
            " → Train ([2019, 2020, 2021, 2022]): 1410\n",
            " → Val   ([2024]): 342\n",
            " → Test  ([2023]): 350\n"
          ]
        }
      ],
      "source": [
        "def split_data_temporal(ids, train_y, val_y, test_y):\n",
        "    train = [i for i in ids if int(i.split(\"_\")[0]) in train_y]\n",
        "    val = [i for i in ids if int(i.split(\"_\")[0]) in val_y]\n",
        "    test = [i for i in ids if int(i.split(\"_\")[0]) in test_y]\n",
        "    return train, val, test\n",
        "\n",
        "ids_s2  = set(df_s2[ITEM_ID_COL])\n",
        "ids_sar = set(df_sar[ITEM_ID_COL])\n",
        "common_ids = list(ids_s2 & ids_sar) or list(ids_s2) or list(ids_sar)\n",
        "train_ids, val_ids, test_ids = split_data_temporal(common_ids, TRAIN_YEARS, VAL_YEARS, TEST_YEARS)\n",
        "\n",
        "print(f\"\\nTemporal split:\")\n",
        "print(f\" → Total IDs: {len(common_ids)}\")\n",
        "print(f\" → Train ({TRAIN_YEARS}): {len(train_ids)}\")\n",
        "print(f\" → Val   ({VAL_YEARS}): {len(val_ids)}\")\n",
        "print(f\" → Test  ({TEST_YEARS}): {len(test_ids)}\")\n"
      ]
    },
    {
      "cell_type": "markdown",
      "metadata": {
        "id": "Z0nnopTw-yzw"
      },
      "source": [
        "## 4. September 15 Cutoff for Unburned Fields\n",
        "\n",
        "To prevent our models from “peeking” at post‑harvest data that wouldn’t exist in a real forecast, we truncate every **unburned** field’s time series at September 15 of its year. Any observations on or after that date are dropped.\n",
        "\n",
        "**Results of the cutoff**  \n",
        "- **Sentinel‑2**:  \n",
        "  - Before: 55,731 rows  \n",
        "  - After:  28,613 rows  (removed 27,118 → ~48.7 %)  \n",
        "- **Sentinel‑1 (SAR)**:  \n",
        "  - Before: 58,712 rows  \n",
        "  - After:  35,588 rows  (removed 23,124 → ~39.4 %)  \n",
        "\n",
        "Despite removing nearly half of our unburned observations, we still retain **2,102 unique fields**, split evenly into **1,051 burned** and **1,051 unburned** IDs in both S2 and SAR. This balanced, temporally truncated dataset is now ready for sequence modeling without leaking post‑burn information.  \n"
      ]
    },
    {
      "cell_type": "code",
      "execution_count": 127,
      "metadata": {
        "colab": {
          "base_uri": "https://localhost:8080/"
        },
        "id": "qtDZsLN7-emM",
        "outputId": "b1a4227f-6664-4d25-8130-22062faecf04"
      },
      "outputs": [
        {
          "name": "stdout",
          "output_type": "stream",
          "text": [
            "\n",
            "Applying Sep 1 cutoff for unburned samples (using common IDs)...\n",
            " → Starting with 55731 S2 rows and 58712 SAR rows for common IDs.\n",
            " → Found 1051 unburned IDs among them.\n",
            "S2 rows after cutoff: 31863 (Removed 23868)\n",
            "   SAR rows after cutoff: 38765 (Removed 19947)\n",
            "\n",
            "Unique item_ids in S2: 2102\n",
            "Unique item_ids in SAR: 2102\n",
            "Unique item_ids in S2 burned: 1051\n",
            "Unique item_ids in SAR burned: 1051\n",
            "Unique item_ids in S2 unburned: 1051\n",
            "Unique item_ids in SAR unburned: 1051\n"
          ]
        }
      ],
      "source": [
        "\n",
        "print(\"\\nApplying Sep 1 cutoff for unburned samples (using common IDs)...\")\n",
        "\n",
        "df_s2_common = df_s2[df_s2[ITEM_ID_COL].isin(common_ids)].copy()\n",
        "df_sar_common = df_sar[df_sar[ITEM_ID_COL].isin(common_ids)].copy()\n",
        "print(f\" → Starting with {len(df_s2_common)} S2 rows and {len(df_sar_common)} SAR rows for common IDs.\")\n",
        "\n",
        "unburned_common_ids = set(\n",
        "    df_s2_common[df_s2_common[TARGET_COL] == 0][ITEM_ID_COL].unique()\n",
        ")\n",
        "print(f\" → Found {len(unburned_common_ids)} unburned IDs among them.\")\n",
        "\n",
        "\n",
        "\n",
        "\n",
        "is_unburned_s2 = df_s2_common[ITEM_ID_COL].isin(unburned_common_ids)\n",
        "\n",
        "sep_1st_s2 = pd.to_datetime(df_s2_common[DATE_COL].dt.year.astype(str) + '-09-15', errors='coerce')\n",
        "\n",
        "keep_mask_s2 = (~is_unburned_s2) | (is_unburned_s2 & (df_s2_common[DATE_COL] < sep_1st_s2))\n",
        "\n",
        "df_s2_processed = df_s2_common[keep_mask_s2].copy()\n",
        "print(f\"S2 rows after cutoff: {len(df_s2_processed)} (Removed {len(df_s2_common) - len(df_s2_processed)})\")\n",
        "\n",
        "\n",
        "\n",
        "\n",
        "\n",
        "\n",
        "is_unburned_sar = df_sar_common[ITEM_ID_COL].isin(unburned_common_ids)\n",
        "\n",
        "sep_1st_sar = pd.to_datetime(df_sar_common[DATE_COL].dt.year.astype(str) + '-09-15', errors='coerce')\n",
        "\n",
        "keep_mask_sar = (~is_unburned_sar) | (is_unburned_sar & (df_sar_common[DATE_COL] < sep_1st_sar))\n",
        "\n",
        "df_sar_processed = df_sar_common[keep_mask_sar].copy()\n",
        "print(f\"   SAR rows after cutoff: {len(df_sar_processed)} (Removed {len(df_sar_common) - len(df_sar_processed)})\")\n",
        "\n",
        "\n",
        "print(f\"\\nUnique item_ids in S2: {len(df_s2_processed[ITEM_ID_COL].unique())}\")\n",
        "print(f\"Unique item_ids in SAR: {len(df_sar_processed[ITEM_ID_COL].unique())}\")\n",
        "\n",
        "print(f\"Unique item_ids in S2 burned: {len(df_s2_processed[df_s2_processed[TARGET_COL] == 1][ITEM_ID_COL].unique())}\")\n",
        "print(f\"Unique item_ids in SAR burned: {len(df_sar_processed[df_sar_processed[TARGET_COL] == 1][ITEM_ID_COL].unique())}\")\n",
        "\n",
        "print(f\"Unique item_ids in S2 unburned: {len(df_s2_processed[df_s2_processed[TARGET_COL] == 0][ITEM_ID_COL].unique())}\")\n",
        "print(f\"Unique item_ids in SAR unburned: {len(df_sar_processed[df_sar_processed[TARGET_COL] == 0][ITEM_ID_COL].unique())}\")"
      ]
    },
    {
      "cell_type": "markdown",
      "metadata": {
        "id": "JW82BXIv-5Pc"
      },
      "source": [
        "## 5. Sequence Creation & Scaling\n",
        "\n",
        "In this step we transform our filtered S2 and SAR tables into fixed‑length time series:\n",
        "\n",
        "1. **Feature selection**  \n",
        "   - Automatically pick the 17 Sentinel‑2 bands/indices and 7 SAR features that survived earlier filtering.  \n",
        "2. **Imputation**  \n",
        "   - Fill any remaining gaps **within each field’s time series** by the series mean, then drop rows still missing values.  \n",
        "3. **Scaling**  \n",
        "   - Fit a `StandardScaler` **only on the training split** for each modality, then apply it to all records.  \n",
        "4. **Grouping & sequence generation**  \n",
        "   - For each `item_id` present in both S2 and SAR, stack its observations into two arrays (optical and radar).  \n",
        "   - There are **2,102** such field‑year sequences after imputation/dropna.  \n",
        "5. **Padding**  \n",
        "   - Pad/truncate optical to **30 steps**, radar to **60 steps**, using `0.0` as the pad value.  \n",
        "   - Final shapes:  \n",
        "     - S2: `(2102, 30, 17)`  \n",
        "     - SAR: `(2102, 60, 7)`  \n",
        "     - Labels: `(2102,)`\n",
        "\n",
        "These arrays (`s2_pad`, `sar_pad`) are now ready for both the Random Forest feature engineer and our Transformer sequence model.  \n"
      ]
    },
    {
      "cell_type": "code",
      "execution_count": 128,
      "metadata": {
        "colab": {
          "base_uri": "https://localhost:8080/"
        },
        "id": "ngbEG-4n-5qp",
        "outputId": "22677bf3-9741-4058-f22b-c4753d5a8087"
      },
      "outputs": [
        {
          "name": "stdout",
          "output_type": "stream",
          "text": [
            "\n",
            "--- Preprocessing & Sequence Creation (Simplified) ---\n",
            "Using 17 S2 features: ['B2', 'B3', 'B4', 'B5', 'B6', 'B7', 'B8', 'B8A', 'B11', 'B12', 'NDVI', 'NDWI', 'NDRE', 'MSAVI', 'SAVI', 'NBR', 'BAIS2']\n",
            "Using 7 SAR features: ['VV', 'VH', 'RFDI', 'RVI', 'VH_contrast', 'VH_entropy', 'VV_contrast']\n",
            "Imputing missing values (using mean per item_id)...\n",
            "S2 shape after imputation/dropna: (31863, 35)\n",
            "SAR shape after imputation/dropna: (38765, 35)\n",
            "Scaling features (fitting scaler only on training data)...\n",
            "Fitting S2 scaler on 22385 training rows.\n",
            "S2 data scaled.\n",
            "Fitting SAR scaler on 25886 training rows.\n",
            "SAR data scaled.\n",
            "Grouping data by item_id...\n",
            "Creating sequences...\n",
            "Found 2102 item_ids with data in both S2 & SAR after imputation.\n",
            "→ Generated 2102 sequence pairs.\n",
            "Padding S2 sequences to length 30...\n",
            "Padding SAR sequences to length 60...\n",
            "Actual S2 features in sequence: 17\n",
            "Actual SAR features in sequence: 7\n",
            "→ S2 padded shape: (2102, 30, 17)\n",
            "→ SAR padded shape: (2102, 60, 7)\n",
            "→ Labels shape: (2102,)\n",
            "Final S2 shape: (2102, 30, 17)\n",
            "Final SAR shape: (2102, 60, 7)\n",
            "Final labels shape: (2102,)\n",
            "Final IDs: 2102\n"
          ]
        }
      ],
      "source": [
        "def preprocess_and_create_sequences(df_s2_input, df_sar_input, train_ids):\n",
        "\n",
        "    print(\"\\n--- Preprocessing & Sequence Creation (Simplified) ---\")\n",
        "\n",
        "    global N_S2_FEATURES_ACTUAL, N_SAR_FEATURES_ACTUAL\n",
        "\n",
        "    df_s2 = df_s2_input.copy() if df_s2_input is not None else pd.DataFrame()\n",
        "    df_sar = df_sar_input.copy() if df_sar_input is not None else pd.DataFrame()\n",
        "\n",
        "    s2_feature_cols = [col for col in S2_FEATURES_NUM if col in df_s2.columns]\n",
        "    sar_feature_cols = [col for col in SAR_FEATURES_NUM if col in df_sar.columns]\n",
        "    print(f\"Using {len(s2_feature_cols)} S2 features: {s2_feature_cols}\")\n",
        "    print(f\"Using {len(sar_feature_cols)} SAR features: {sar_feature_cols}\")\n",
        "\n",
        "    print(\"Imputing missing values (using mean per item_id)...\")\n",
        "    if not df_s2.empty and s2_feature_cols:\n",
        "        df_s2 = df_s2.sort_values(by=[ITEM_ID_COL, DATE_COL])\n",
        "        df_s2[s2_feature_cols] = df_s2.groupby(ITEM_ID_COL)[s2_feature_cols].transform(lambda x: x.fillna(x.mean()))\n",
        "        df_s2.dropna(subset=s2_feature_cols, inplace=True)\n",
        "        print(f\"S2 shape after imputation/dropna: {df_s2.shape}\")\n",
        "\n",
        "    if not df_sar.empty and sar_feature_cols:\n",
        "        df_sar = df_sar.sort_values(by=[ITEM_ID_COL, DATE_COL])\n",
        "        df_sar[sar_feature_cols] = df_sar.groupby(ITEM_ID_COL)[sar_feature_cols].transform(lambda x: x.fillna(x.mean()))\n",
        "        df_sar.dropna(subset=sar_feature_cols, inplace=True)\n",
        "        print(f\"SAR shape after imputation/dropna: {df_sar.shape}\")\n",
        "\n",
        "    print(\"Scaling features (fitting scaler only on training data)...\")\n",
        "    s2_scaler = StandardScaler()\n",
        "    sar_scaler = StandardScaler()\n",
        "\n",
        "    s2_train_data = df_s2[df_s2[ITEM_ID_COL].isin(train_ids)] if not df_s2.empty else pd.DataFrame()\n",
        "    sar_train_data = df_sar[df_sar[ITEM_ID_COL].isin(train_ids)] if not df_sar.empty else pd.DataFrame()\n",
        "\n",
        "    if not s2_train_data.empty and s2_feature_cols:\n",
        "        print(f\"Fitting S2 scaler on {len(s2_train_data)} training rows.\")\n",
        "        s2_scaler.fit(s2_train_data[s2_feature_cols])\n",
        "        df_s2[s2_feature_cols] = s2_scaler.transform(df_s2[s2_feature_cols])\n",
        "        print(\"S2 data scaled.\")\n",
        "    elif not df_s2.empty:\n",
        "        print(\"Warning: No S2 training data found for scaler fitting. S2 data not scaled.\")\n",
        "\n",
        "    if not sar_train_data.empty and sar_feature_cols:\n",
        "        print(f\"Fitting SAR scaler on {len(sar_train_data)} training rows.\")\n",
        "        sar_scaler.fit(sar_train_data[sar_feature_cols])\n",
        "        df_sar[sar_feature_cols] = sar_scaler.transform(df_sar[sar_feature_cols])\n",
        "        print(\"SAR data scaled.\")\n",
        "    elif not df_sar.empty:\n",
        "        print(\"Warning: No SAR training data found for scaler fitting. SAR data not scaled.\")\n",
        "\n",
        "    print(\"Grouping data by item_id...\")\n",
        "    grouped_s2 = df_s2.groupby(ITEM_ID_COL) if not df_s2.empty else None\n",
        "    grouped_sar = df_sar.groupby(ITEM_ID_COL) if not df_sar.empty else None\n",
        "\n",
        "    print(\"Creating sequences...\")\n",
        "    s2_sequences = []\n",
        "    sar_sequences = []\n",
        "    sequence_labels = []\n",
        "    sequence_ids = []\n",
        "\n",
        "    ids_in_s2 = set(grouped_s2.groups.keys()) if grouped_s2 else set()\n",
        "    ids_in_sar = set(grouped_sar.groups.keys()) if grouped_sar else set()\n",
        "    common_ids_processed = list(ids_in_s2.intersection(ids_in_sar))\n",
        "\n",
        "    print(f\"Found {len(common_ids_processed)} item_ids with data in both S2 & SAR after imputation.\")\n",
        "\n",
        "    for item_id in common_ids_processed:\n",
        "        s2_item_data = grouped_s2.get_group(item_id)\n",
        "        sar_item_data = grouped_sar.get_group(item_id)\n",
        "\n",
        "        s2_sequence_data = s2_item_data[s2_feature_cols].values\n",
        "        sar_sequence_data = sar_item_data[sar_feature_cols].values\n",
        "\n",
        "        if s2_sequence_data.size == 0 or sar_sequence_data.size == 0:\n",
        "            print(f\"Warning: Empty sequence data for item_id {item_id} after grouping. Skipping.\")\n",
        "            continue\n",
        "\n",
        "        s2_sequences.append(s2_sequence_data)\n",
        "        sar_sequences.append(sar_sequence_data)\n",
        "\n",
        "        sequence_labels.append(s2_item_data[TARGET_COL].iloc[0])\n",
        "        sequence_ids.append(item_id)\n",
        "\n",
        "    if not s2_sequences or not sar_sequences:\n",
        "         raise ValueError(\"No sequence pairs were generated. Check intermediate data shapes and filtering.\")\n",
        "    print(f\"→ Generated {len(s2_sequences)} sequence pairs.\")\n",
        "\n",
        "    print(f\"Padding S2 sequences to length {MAX_SEQ_LEN_S2}...\")\n",
        "    s2_padded = pad_sequences(\n",
        "        s2_sequences,\n",
        "        maxlen=MAX_SEQ_LEN_S2,\n",
        "        padding='post',     \n",
        "        truncating='post',   \n",
        "        value=PAD_VALUE,    \n",
        "        dtype='float32'    \n",
        "    )\n",
        "\n",
        "    print(f\"Padding SAR sequences to length {MAX_SEQ_LEN_SAR}...\")\n",
        "    sar_padded = pad_sequences(\n",
        "        sar_sequences,\n",
        "        maxlen=MAX_SEQ_LEN_SAR,\n",
        "        padding='post',\n",
        "        truncating='post',\n",
        "        value=PAD_VALUE,\n",
        "        dtype='float32'\n",
        "    )\n",
        "\n",
        "    labels_array = np.array(sequence_labels)\n",
        "\n",
        "    N_S2_FEATURES_ACTUAL = s2_padded.shape[2] if s2_padded.ndim == 3 else 0\n",
        "    N_SAR_FEATURES_ACTUAL = sar_padded.shape[2] if sar_padded.ndim == 3 else 0\n",
        "    print(f\"Actual S2 features in sequence: {N_S2_FEATURES_ACTUAL}\")\n",
        "    print(f\"Actual SAR features in sequence: {N_SAR_FEATURES_ACTUAL}\")\n",
        "\n",
        "    print(f\"→ S2 padded shape: {s2_padded.shape}\")\n",
        "    print(f\"→ SAR padded shape: {sar_padded.shape}\")\n",
        "    print(f\"→ Labels shape: {labels_array.shape}\")\n",
        "\n",
        "    id_to_index_map = {item_id: index for index, item_id in enumerate(sequence_ids)}\n",
        "\n",
        "    return s2_padded, sar_padded, labels_array, sequence_ids, id_to_index_map, s2_scaler, sar_scaler\n",
        "\n",
        "s2_pad, sar_pad, labels, final_ids, id_map, s2_sc, sar_sc = \\\n",
        "    preprocess_and_create_sequences(df_s2_processed, df_sar_processed, train_ids)\n",
        "print(f\"Final S2 shape: {s2_pad.shape}\")\n",
        "print(f\"Final SAR shape: {sar_pad.shape}\")\n",
        "print(f\"Final labels shape: {labels.shape}\")    \n",
        "print(f\"Final IDs: {len(final_ids)}\")\n"
      ]
    },
    {
      "cell_type": "markdown",
      "metadata": {
        "id": "fSkmf_8n_xxF"
      },
      "source": [
        "### 6. RF Feature Engineering\n",
        "\n",
        "In this cell we collapse each field’s full time series into a **static feature vector** by computing four summary statistics—mean, standard deviation, min and max—for every input band/index:\n",
        "\n",
        "- **Sentinel‑2**: 17 features → 17 × 4 = 68 summary stats  \n",
        "- **SAR**: 7 features → 7 × 4 = 28 summary stats  \n",
        "- **Total per sample**: 68 + 28 = 96 features  \n",
        "\n",
        "The printed shape `(2102, 96)` confirms we now have 2,102 samples (one per field‑year) each represented by 96 engineered features. This gives us a simple, order‑agnostic baseline for the Random Forest, against which we can compare our full sequence models.  \n"
      ]
    },
    {
      "cell_type": "code",
      "execution_count": 129,
      "metadata": {
        "colab": {
          "base_uri": "https://localhost:8080/"
        },
        "id": "Y4V0PH_R-85b",
        "outputId": "9ae9d69a-402e-41f8-8e64-94f20a7a8d2d"
      },
      "outputs": [
        {
          "name": "stdout",
          "output_type": "stream",
          "text": [
            "\n",
            "--- Engineering RF Features ---\n",
            "Calculating 4 stats for 17 S2 features and 7 SAR features.\n",
            " → Engineered RF features shape: (2102, 96)\n"
          ]
        }
      ],
      "source": [
        "def engineer_features_for_rf(s2_padded_sequences, sar_padded_sequences, item_ids):\n",
        "    print(\"\\n--- Engineering RF Features ---\")\n",
        "\n",
        "    all_rf_features = [] \n",
        "\n",
        "    num_s2_features = s2_padded_sequences.shape[2] if s2_padded_sequences.ndim == 3 else 0\n",
        "    num_sar_features = sar_padded_sequences.shape[2] if sar_padded_sequences.ndim == 3 else 0\n",
        "    num_stats_per_feature = 4 \n",
        "\n",
        "    print(f\"Calculating {num_stats_per_feature} stats for {num_s2_features} S2 features and {num_sar_features} SAR features.\")\n",
        "\n",
        "    for i in range(len(item_ids)):\n",
        "        s2_sequence = s2_padded_sequences[i]\n",
        "        sar_sequence = sar_padded_sequences[i]\n",
        "\n",
        "        s2_data_mask = np.any(np.abs(s2_sequence - PAD_VALUE) > 1e-9, axis=1)\n",
        "        sar_data_mask = np.any(np.abs(sar_sequence - PAD_VALUE) > 1e-9, axis=1)\n",
        "\n",
        "        s2_sequence_unpadded = s2_sequence[s2_data_mask]\n",
        "        sar_sequence_unpadded = sar_sequence[sar_data_mask]\n",
        "\n",
        "        if s2_sequence_unpadded.shape[0] > 0 and num_s2_features > 0:\n",
        "            s2_mean = np.mean(s2_sequence_unpadded, axis=0)\n",
        "            s2_std = np.std(s2_sequence_unpadded, axis=0)\n",
        "            s2_min = np.min(s2_sequence_unpadded, axis=0)\n",
        "            s2_max = np.max(s2_sequence_unpadded, axis=0)\n",
        "            s2_stats = np.concatenate([s2_mean, s2_std, s2_min, s2_max])\n",
        "            s2_stats = np.nan_to_num(s2_stats)\n",
        "\n",
        "        if sar_sequence_unpadded.shape[0] > 0 and num_sar_features > 0:\n",
        "            sar_mean = np.mean(sar_sequence_unpadded, axis=0)\n",
        "            sar_std = np.std(sar_sequence_unpadded, axis=0)\n",
        "            sar_min = np.min(sar_sequence_unpadded, axis=0)\n",
        "            sar_max = np.max(sar_sequence_unpadded, axis=0)\n",
        "            sar_stats = np.concatenate([sar_mean, sar_std, sar_min, sar_max])\n",
        "            sar_stats = np.nan_to_num(sar_stats)\n",
        "\n",
        "        item_rf_features = np.concatenate([s2_stats, sar_stats])\n",
        "\n",
        "        all_rf_features.append(item_rf_features)\n",
        "\n",
        "    rf_features_array = np.array(all_rf_features)\n",
        "    print(f\" → Engineered RF features shape: {rf_features_array.shape}\")\n",
        "    return rf_features_array\n",
        "\n",
        "rf_features = engineer_features_for_rf(s2_pad, sar_pad, final_ids)"
      ]
    },
    {
      "cell_type": "markdown",
      "metadata": {
        "id": "cMXftB1P_35l"
      },
      "source": [
        "## 7. Mapping Item IDs to Array Indices\n",
        "\n",
        "Before feeding data into our models, we need to translate the `item_id` lists for train/val/test into the corresponding row indices of our padded arrays (`s2_pad`, `sar_pad`, and RF features). This ensures each split slices the same entries across all modalities:\n",
        "\n",
        "- **Training samples**: 1,410  \n",
        "- **Validation samples**: 350  \n",
        "- **Test samples**: 342  \n",
        "\n",
        "With these index arrays (`train_idx`, `val_idx`, `test_idx`), we can now cleanly extract:\n",
        "```python\n",
        "X_train_s2 = s2_pad[train_idx]\n",
        "X_val_s2   = s2_pad[val_idx]\n",
        "X_test_s2  = s2_pad[test_idx]\n",
        "# (and similarly for SAR and RF feature arrays)"
      ]
    },
    {
      "cell_type": "code",
      "execution_count": 130,
      "metadata": {
        "colab": {
          "base_uri": "https://localhost:8080/"
        },
        "id": "iJKCvbtI_wbK",
        "outputId": "1e62838a-9dad-4ee3-e12e-f55eb6a034ed"
      },
      "outputs": [
        {
          "name": "stdout",
          "output_type": "stream",
          "text": [
            "\n",
            "Index splits → Train:1410, Val:342, Test:350\n"
          ]
        }
      ],
      "source": [
        "train_idx = [id_map[i] for i in train_ids if i in id_map]\n",
        "val_idx   = [id_map[i] for i in val_ids   if i in id_map]\n",
        "test_idx  = [id_map[i] for i in test_ids  if i in id_map]\n",
        "print(f\"\\nIndex splits → Train:{len(train_idx)}, Val:{len(val_idx)}, Test:{len(test_idx)}\")"
      ]
    },
    {
      "cell_type": "markdown",
      "metadata": {
        "id": "VrB_4Ljs_8qf"
      },
      "source": [
        "## 8. Random Forest Baseline\n",
        "\n",
        "Here we train a Random Forest on the 96 summary statistics (mean, std, min, max) per feature and evaluate on both the 2023 validation split and the 2024 test split. The printed metrics show:\n",
        "\n",
        "- **Validation**  \n",
        "  - Accuracy = 0.50, F1 = 0.00  \n",
        "- **Test**  \n",
        "  - Accuracy = 0.50, F1 = 0.00  \n",
        "\n",
        "The classification report and confusion matrix reveal that the model predicts only the “unburned” class:\n",
        "- Unburned (0): precision 0.50, recall 1.00  \n",
        "- Burned   (1): precision 0.00, recall 0.00  \n",
        "\n",
        "**Results Analysis:**  \n",
        "By reducing each time series to just four static statistics, all of the rich temporal dynamics that precede a burn event are lost. The RF effectively “gives up” on detecting burns, achieving 50 % accuracy by predicting the majority class. This underscores the need for a true sequence model—such as our Transformer—that can learn patterns over time rather than relying on blunt summary features.  \n"
      ]
    },
    {
      "cell_type": "code",
      "execution_count": 131,
      "metadata": {
        "colab": {
          "base_uri": "https://localhost:8080/",
          "height": 678
        },
        "id": "vT2a5dOj_6jK",
        "outputId": "04a7d627-c88f-4630-8f84-953913319205"
      },
      "outputs": [
        {
          "name": "stdout",
          "output_type": "stream",
          "text": [
            "\n",
            "RF Validation → Acc: 0.5000, F1: 0.0000\n",
            "\n",
            "RF Test → Acc: 0.5000, F1: 0.0000\n",
            "              precision    recall  f1-score   support\n",
            "\n",
            "           0       0.50      1.00      0.67       175\n",
            "           1       0.00      0.00      0.00       175\n",
            "\n",
            "    accuracy                           0.50       350\n",
            "   macro avg       0.25      0.50      0.33       350\n",
            "weighted avg       0.25      0.50      0.33       350\n",
            "\n"
          ]
        },
        {
          "data": {
            "image/png": "[encoded data removed]",
            "text/plain": [
              "<Figure size 640x480 with 2 Axes>"
            ]
          },
          "metadata": {},
          "output_type": "display_data"
        }
      ],
      "source": [
        "def train_eval_rf(X_tr,y_tr,X_val,y_val,X_te,y_te):\n",
        "    rf = RandomForestClassifier(\n",
        "        n_estimators=RF_N_ESTIMATORS,\n",
        "        max_depth=RF_MAX_DEPTH,\n",
        "        random_state=RF_RANDOM_STATE,\n",
        "        class_weight='balanced',\n",
        "        n_jobs=-1\n",
        "    )\n",
        "    rf.fit(X_tr,y_tr)\n",
        "\n",
        "    # validation\n",
        "    if X_val is not None and len(y_val)>0:\n",
        "        yv=rf.predict(X_val)\n",
        "        print(f\"\\nRF Validation → Acc: {accuracy_score(y_val,yv):.4f}, F1: {f1_score(y_val,yv):.4f}\")\n",
        "        \n",
        "    # test\n",
        "    yt=rf.predict(X_te)\n",
        "    acc, f1 = accuracy_score(y_te, yt), f1_score(y_te, yt)\n",
        "    print(f\"\\nRF Test → Acc: {acc:.4f}, F1: {f1:.4f}\")\n",
        "    print(classification_report(y_te, yt, zero_division=0))\n",
        "    cm=confusion_matrix(y_te, yt)\n",
        "    sns.heatmap(cm, annot=True, fmt='d', cmap='Greens')\n",
        "    plt.title(\"RF Confusion Matrix\"); plt.show()\n",
        "    results['RandomForest']={'Accuracy':acc,'F1':f1}\n",
        "    return rf\n",
        "\n",
        "X_tr_rf = rf_features[train_idx]\n",
        "X_val_rf= rf_features[val_idx] if val_idx else None\n",
        "X_te_rf = rf_features[test_idx]\n",
        "y_tr, y_val, y_te = labels[train_idx], labels[val_idx] if val_idx else np.array([]), labels[test_idx]\n",
        "\n",
        "rf_model = train_eval_rf(X_tr_rf,y_tr,X_val_rf,y_val,X_te_rf,y_te)"
      ]
    },
    {
      "cell_type": "markdown",
      "metadata": {
        "id": "sUOot1x7AC3i"
      },
      "source": [
        "## 9. Transformer Architecture\n",
        "\n",
        "In this cell we define and inspect our dual‑input Transformer, which processes Sentinel‑2 and Sentinel‑1 time series in parallel:\n",
        "\n",
        "1. **Positional Encoding**  \n",
        "   - Generates sinusoidal embeddings so the model knows each observation’s position in the 30‑step (S2) or 60‑step (SAR) sequence.\n",
        "\n",
        "2. **TransformerEncoderBlock**  \n",
        "   - A single self‑attention block with:\n",
        "     - Multi‑Head Attention (4 heads)  \n",
        "     - Feed‑forward network (128 units) with L2 regularization  \n",
        "     - Layer normalization and dropout  \n",
        "\n",
        "3. **Dual‑Input Model**  \n",
        "   - **S2 branch**  \n",
        "     - Input → Dense embedding → Add positional encoding → Transformer block → Global average pooling → Dropout  \n",
        "   - **SAR branch**  \n",
        "     - Identical flow with its own inputs and masks  \n",
        "   - **Fusion**  \n",
        "     - Concatenate pooled S2 & SAR representations → Dense(64) + Dropout → Sigmoid output  \n",
        "\n",
        "4. **Parameter Count**  \n",
        "   - ~176K total trainable parameters (~689 KB), small enough for fast training yet expressive enough to model complex temporal patterns.\n",
        "\n",
        "This architecture preserves the full temporal dynamics in each modality, allowing the model to learn when and how vegetation indices and radar backscatter evolve prior to stubble burning.  \n"
      ]
    },
    {
      "cell_type": "code",
      "execution_count": 132,
      "metadata": {
        "colab": {
          "base_uri": "https://localhost:8080/",
          "height": 913
        },
        "id": "_gD07rl9_-FF",
        "outputId": "0dbdaa35-5c39-49af-962c-a062d623cdbf"
      },
      "outputs": [
        {
          "name": "stdout",
          "output_type": "stream",
          "text": [
            "Calculated Embedding Dimension: 64\n"
          ]
        },
        {
          "data": {
            "text/html": [
              "<pre style=\"white-space:pre;overflow-x:auto;line-height:normal;font-family:Menlo,'DejaVu Sans Mono',consolas,'Courier New',monospace\"><span style=\"font-weight: bold\">Model: \"DualInputTransformer\"</span>\n",
              "</pre>\n"
            ],
            "text/plain": [
              "\u001b[1mModel: \"DualInputTransformer\"\u001b[0m\n"
            ]
          },
          "metadata": {},
          "output_type": "display_data"
        },
        {
          "data": {
            "text/html": [
              "<pre style=\"white-space:pre;overflow-x:auto;line-height:normal;font-family:Menlo,'DejaVu Sans Mono',consolas,'Courier New',monospace\">┏━━━━━━━━━━━━━━━━━━━━━┳━━━━━━━━━━━━━━━━━━━┳━━━━━━━━━━━━┳━━━━━━━━━━━━━━━━━━━┓\n",
              "┃<span style=\"font-weight: bold\"> Layer (type)        </span>┃<span style=\"font-weight: bold\"> Output Shape      </span>┃<span style=\"font-weight: bold\">    Param # </span>┃<span style=\"font-weight: bold\"> Connected to      </span>┃\n",
              "┡━━━━━━━━━━━━━━━━━━━━━╇━━━━━━━━━━━━━━━━━━━╇━━━━━━━━━━━━╇━━━━━━━━━━━━━━━━━━━┩\n",
              "│ s2_input            │ (<span style=\"color: #00d7ff; text-decoration-color: #00d7ff\">None</span>, <span style=\"color: #00af00; text-decoration-color: #00af00\">30</span>, <span style=\"color: #00af00; text-decoration-color: #00af00\">17</span>)    │          <span style=\"color: #00af00; text-decoration-color: #00af00\">0</span> │ -                 │\n",
              "│ (<span style=\"color: #0087ff; text-decoration-color: #0087ff\">InputLayer</span>)        │                   │            │                   │\n",
              "├─────────────────────┼───────────────────┼────────────┼───────────────────┤\n",
              "│ sar_input           │ (<span style=\"color: #00d7ff; text-decoration-color: #00d7ff\">None</span>, <span style=\"color: #00af00; text-decoration-color: #00af00\">60</span>, <span style=\"color: #00af00; text-decoration-color: #00af00\">7</span>)     │          <span style=\"color: #00af00; text-decoration-color: #00af00\">0</span> │ -                 │\n",
              "│ (<span style=\"color: #0087ff; text-decoration-color: #0087ff\">InputLayer</span>)        │                   │            │                   │\n",
              "├─────────────────────┼───────────────────┼────────────┼───────────────────┤\n",
              "│ s2_embedding_proje… │ (<span style=\"color: #00d7ff; text-decoration-color: #00d7ff\">None</span>, <span style=\"color: #00af00; text-decoration-color: #00af00\">30</span>, <span style=\"color: #00af00; text-decoration-color: #00af00\">64</span>)    │      <span style=\"color: #00af00; text-decoration-color: #00af00\">1,152</span> │ s2_input[<span style=\"color: #00af00; text-decoration-color: #00af00\">0</span>][<span style=\"color: #00af00; text-decoration-color: #00af00\">0</span>]    │\n",
              "│ (<span style=\"color: #0087ff; text-decoration-color: #0087ff\">TimeDistributed</span>)   │                   │            │                   │\n",
              "├─────────────────────┼───────────────────┼────────────┼───────────────────┤\n",
              "│ s2_padding_mask     │ (<span style=\"color: #00d7ff; text-decoration-color: #00d7ff\">None</span>, <span style=\"color: #00af00; text-decoration-color: #00af00\">30</span>)        │          <span style=\"color: #00af00; text-decoration-color: #00af00\">0</span> │ s2_input[<span style=\"color: #00af00; text-decoration-color: #00af00\">0</span>][<span style=\"color: #00af00; text-decoration-color: #00af00\">0</span>]    │\n",
              "│ (<span style=\"color: #0087ff; text-decoration-color: #0087ff\">Lambda</span>)            │                   │            │                   │\n",
              "├─────────────────────┼───────────────────┼────────────┼───────────────────┤\n",
              "│ sar_embedding_proj… │ (<span style=\"color: #00d7ff; text-decoration-color: #00d7ff\">None</span>, <span style=\"color: #00af00; text-decoration-color: #00af00\">60</span>, <span style=\"color: #00af00; text-decoration-color: #00af00\">64</span>)    │        <span style=\"color: #00af00; text-decoration-color: #00af00\">512</span> │ sar_input[<span style=\"color: #00af00; text-decoration-color: #00af00\">0</span>][<span style=\"color: #00af00; text-decoration-color: #00af00\">0</span>]   │\n",
              "│ (<span style=\"color: #0087ff; text-decoration-color: #0087ff\">TimeDistributed</span>)   │                   │            │                   │\n",
              "├─────────────────────┼───────────────────┼────────────┼───────────────────┤\n",
              "│ sar_padding_mask    │ (<span style=\"color: #00d7ff; text-decoration-color: #00d7ff\">None</span>, <span style=\"color: #00af00; text-decoration-color: #00af00\">60</span>)        │          <span style=\"color: #00af00; text-decoration-color: #00af00\">0</span> │ sar_input[<span style=\"color: #00af00; text-decoration-color: #00af00\">0</span>][<span style=\"color: #00af00; text-decoration-color: #00af00\">0</span>]   │\n",
              "│ (<span style=\"color: #0087ff; text-decoration-color: #0087ff\">Lambda</span>)            │                   │            │                   │\n",
              "├─────────────────────┼───────────────────┼────────────┼───────────────────┤\n",
              "│ s2_add_positional_… │ (<span style=\"color: #00af00; text-decoration-color: #00af00\">1</span>, <span style=\"color: #00af00; text-decoration-color: #00af00\">30</span>, <span style=\"color: #00af00; text-decoration-color: #00af00\">64</span>)       │          <span style=\"color: #00af00; text-decoration-color: #00af00\">0</span> │ s2_embedding_pro… │\n",
              "│ (<span style=\"color: #0087ff; text-decoration-color: #0087ff\">Add</span>)               │                   │            │                   │\n",
              "├─────────────────────┼───────────────────┼────────────┼───────────────────┤\n",
              "│ s2_attention_mask   │ (<span style=\"color: #00d7ff; text-decoration-color: #00d7ff\">None</span>, <span style=\"color: #00af00; text-decoration-color: #00af00\">1</span>, <span style=\"color: #00af00; text-decoration-color: #00af00\">30</span>)     │          <span style=\"color: #00af00; text-decoration-color: #00af00\">0</span> │ s2_padding_mask[<span style=\"color: #00af00; text-decoration-color: #00af00\">…</span> │\n",
              "│ (<span style=\"color: #0087ff; text-decoration-color: #0087ff\">Lambda</span>)            │                   │            │                   │\n",
              "├─────────────────────┼───────────────────┼────────────┼───────────────────┤\n",
              "│ sar_add_positional… │ (<span style=\"color: #00af00; text-decoration-color: #00af00\">1</span>, <span style=\"color: #00af00; text-decoration-color: #00af00\">60</span>, <span style=\"color: #00af00; text-decoration-color: #00af00\">64</span>)       │          <span style=\"color: #00af00; text-decoration-color: #00af00\">0</span> │ sar_embedding_pr… │\n",
              "│ (<span style=\"color: #0087ff; text-decoration-color: #0087ff\">Add</span>)               │                   │            │                   │\n",
              "├─────────────────────┼───────────────────┼────────────┼───────────────────┤\n",
              "│ sar_attention_mask  │ (<span style=\"color: #00d7ff; text-decoration-color: #00d7ff\">None</span>, <span style=\"color: #00af00; text-decoration-color: #00af00\">1</span>, <span style=\"color: #00af00; text-decoration-color: #00af00\">60</span>)     │          <span style=\"color: #00af00; text-decoration-color: #00af00\">0</span> │ sar_padding_mask… │\n",
              "│ (<span style=\"color: #0087ff; text-decoration-color: #0087ff\">Lambda</span>)            │                   │            │                   │\n",
              "├─────────────────────┼───────────────────┼────────────┼───────────────────┤\n",
              "│ s2_transformer_blo… │ (<span style=\"color: #00af00; text-decoration-color: #00af00\">1</span>, <span style=\"color: #00af00; text-decoration-color: #00af00\">30</span>, <span style=\"color: #00af00; text-decoration-color: #00af00\">64</span>)       │     <span style=\"color: #00af00; text-decoration-color: #00af00\">33,472</span> │ s2_add_positiona… │\n",
              "│ (<span style=\"color: #0087ff; text-decoration-color: #0087ff\">TransformerEncode…</span> │                   │            │ s2_attention_mas… │\n",
              "├─────────────────────┼───────────────────┼────────────┼───────────────────┤\n",
              "│ sar_transformer_bl… │ (<span style=\"color: #00af00; text-decoration-color: #00af00\">1</span>, <span style=\"color: #00af00; text-decoration-color: #00af00\">60</span>, <span style=\"color: #00af00; text-decoration-color: #00af00\">64</span>)       │     <span style=\"color: #00af00; text-decoration-color: #00af00\">33,472</span> │ sar_add_position… │\n",
              "│ (<span style=\"color: #0087ff; text-decoration-color: #0087ff\">TransformerEncode…</span> │                   │            │ sar_attention_ma… │\n",
              "├─────────────────────┼───────────────────┼────────────┼───────────────────┤\n",
              "│ s2_global_avg_pool… │ (<span style=\"color: #00af00; text-decoration-color: #00af00\">1</span>, <span style=\"color: #00af00; text-decoration-color: #00af00\">64</span>)           │          <span style=\"color: #00af00; text-decoration-color: #00af00\">0</span> │ s2_transformer_b… │\n",
              "│ (<span style=\"color: #0087ff; text-decoration-color: #0087ff\">GlobalAveragePool…</span> │                   │            │ s2_padding_mask[<span style=\"color: #00af00; text-decoration-color: #00af00\">…</span> │\n",
              "├─────────────────────┼───────────────────┼────────────┼───────────────────┤\n",
              "│ sar_global_avg_poo… │ (<span style=\"color: #00af00; text-decoration-color: #00af00\">1</span>, <span style=\"color: #00af00; text-decoration-color: #00af00\">64</span>)           │          <span style=\"color: #00af00; text-decoration-color: #00af00\">0</span> │ sar_transformer_… │\n",
              "│ (<span style=\"color: #0087ff; text-decoration-color: #0087ff\">GlobalAveragePool…</span> │                   │            │ sar_padding_mask… │\n",
              "├─────────────────────┼───────────────────┼────────────┼───────────────────┤\n",
              "│ s2_pool_dropout     │ (<span style=\"color: #00af00; text-decoration-color: #00af00\">1</span>, <span style=\"color: #00af00; text-decoration-color: #00af00\">64</span>)           │          <span style=\"color: #00af00; text-decoration-color: #00af00\">0</span> │ s2_global_avg_po… │\n",
              "│ (<span style=\"color: #0087ff; text-decoration-color: #0087ff\">Dropout</span>)           │                   │            │                   │\n",
              "├─────────────────────┼───────────────────┼────────────┼───────────────────┤\n",
              "│ sar_pool_dropout    │ (<span style=\"color: #00af00; text-decoration-color: #00af00\">1</span>, <span style=\"color: #00af00; text-decoration-color: #00af00\">64</span>)           │          <span style=\"color: #00af00; text-decoration-color: #00af00\">0</span> │ sar_global_avg_p… │\n",
              "│ (<span style=\"color: #0087ff; text-decoration-color: #0087ff\">Dropout</span>)           │                   │            │                   │\n",
              "├─────────────────────┼───────────────────┼────────────┼───────────────────┤\n",
              "│ concatenate_branch… │ (<span style=\"color: #00af00; text-decoration-color: #00af00\">1</span>, <span style=\"color: #00af00; text-decoration-color: #00af00\">128</span>)          │          <span style=\"color: #00af00; text-decoration-color: #00af00\">0</span> │ s2_pool_dropout[<span style=\"color: #00af00; text-decoration-color: #00af00\">…</span> │\n",
              "│ (<span style=\"color: #0087ff; text-decoration-color: #0087ff\">Concatenate</span>)       │                   │            │ sar_pool_dropout… │\n",
              "├─────────────────────┼───────────────────┼────────────┼───────────────────┤\n",
              "│ combined_dense_1    │ (<span style=\"color: #00af00; text-decoration-color: #00af00\">1</span>, <span style=\"color: #00af00; text-decoration-color: #00af00\">64</span>)           │      <span style=\"color: #00af00; text-decoration-color: #00af00\">8,256</span> │ concatenate_bran… │\n",
              "│ (<span style=\"color: #0087ff; text-decoration-color: #0087ff\">Dense</span>)             │                   │            │                   │\n",
              "├─────────────────────┼───────────────────┼────────────┼───────────────────┤\n",
              "│ combined_dropout    │ (<span style=\"color: #00af00; text-decoration-color: #00af00\">1</span>, <span style=\"color: #00af00; text-decoration-color: #00af00\">64</span>)           │          <span style=\"color: #00af00; text-decoration-color: #00af00\">0</span> │ combined_dense_1… │\n",
              "│ (<span style=\"color: #0087ff; text-decoration-color: #0087ff\">Dropout</span>)           │                   │            │                   │\n",
              "├─────────────────────┼───────────────────┼────────────┼───────────────────┤\n",
              "│ output_layer        │ (<span style=\"color: #00af00; text-decoration-color: #00af00\">1</span>, <span style=\"color: #00af00; text-decoration-color: #00af00\">1</span>)            │         <span style=\"color: #00af00; text-decoration-color: #00af00\">65</span> │ combined_dropout… │\n",
              "│ (<span style=\"color: #0087ff; text-decoration-color: #0087ff\">Dense</span>)             │                   │            │                   │\n",
              "└─────────────────────┴───────────────────┴────────────┴───────────────────┘\n",
              "</pre>\n"
            ],
            "text/plain": [
              "┏━━━━━━━━━━━━━━━━━━━━━┳━━━━━━━━━━━━━━━━━━━┳━━━━━━━━━━━━┳━━━━━━━━━━━━━━━━━━━┓\n",
              "┃\u001b[1m \u001b[0m\u001b[1mLayer (type)       \u001b[0m\u001b[1m \u001b[0m┃\u001b[1m \u001b[0m\u001b[1mOutput Shape     \u001b[0m\u001b[1m \u001b[0m┃\u001b[1m \u001b[0m\u001b[1m   Param #\u001b[0m\u001b[1m \u001b[0m┃\u001b[1m \u001b[0m\u001b[1mConnected to     \u001b[0m\u001b[1m \u001b[0m┃\n",
              "┡━━━━━━━━━━━━━━━━━━━━━╇━━━━━━━━━━━━━━━━━━━╇━━━━━━━━━━━━╇━━━━━━━━━━━━━━━━━━━┩\n",
              "│ s2_input            │ (\u001b[38;5;45mNone\u001b[0m, \u001b[38;5;34m30\u001b[0m, \u001b[38;5;34m17\u001b[0m)    │          \u001b[38;5;34m0\u001b[0m │ -                 │\n",
              "│ (\u001b[38;5;33mInputLayer\u001b[0m)        │                   │            │                   │\n",
              "├─────────────────────┼───────────────────┼────────────┼───────────────────┤\n",
              "│ sar_input           │ (\u001b[38;5;45mNone\u001b[0m, \u001b[38;5;34m60\u001b[0m, \u001b[38;5;34m7\u001b[0m)     │          \u001b[38;5;34m0\u001b[0m │ -                 │\n",
              "│ (\u001b[38;5;33mInputLayer\u001b[0m)        │                   │            │                   │\n",
              "├─────────────────────┼───────────────────┼────────────┼───────────────────┤\n",
              "│ s2_embedding_proje… │ (\u001b[38;5;45mNone\u001b[0m, \u001b[38;5;34m30\u001b[0m, \u001b[38;5;34m64\u001b[0m)    │      \u001b[38;5;34m1,152\u001b[0m │ s2_input[\u001b[38;5;34m0\u001b[0m][\u001b[38;5;34m0\u001b[0m]    │\n",
              "│ (\u001b[38;5;33mTimeDistributed\u001b[0m)   │                   │            │                   │\n",
              "├─────────────────────┼───────────────────┼────────────┼───────────────────┤\n",
              "│ s2_padding_mask     │ (\u001b[38;5;45mNone\u001b[0m, \u001b[38;5;34m30\u001b[0m)        │          \u001b[38;5;34m0\u001b[0m │ s2_input[\u001b[38;5;34m0\u001b[0m][\u001b[38;5;34m0\u001b[0m]    │\n",
              "│ (\u001b[38;5;33mLambda\u001b[0m)            │                   │            │                   │\n",
              "├─────────────────────┼───────────────────┼────────────┼───────────────────┤\n",
              "│ sar_embedding_proj… │ (\u001b[38;5;45mNone\u001b[0m, \u001b[38;5;34m60\u001b[0m, \u001b[38;5;34m64\u001b[0m)    │        \u001b[38;5;34m512\u001b[0m │ sar_input[\u001b[38;5;34m0\u001b[0m][\u001b[38;5;34m0\u001b[0m]   │\n",
              "│ (\u001b[38;5;33mTimeDistributed\u001b[0m)   │                   │            │                   │\n",
              "├─────────────────────┼───────────────────┼────────────┼───────────────────┤\n",
              "│ sar_padding_mask    │ (\u001b[38;5;45mNone\u001b[0m, \u001b[38;5;34m60\u001b[0m)        │          \u001b[38;5;34m0\u001b[0m │ sar_input[\u001b[38;5;34m0\u001b[0m][\u001b[38;5;34m0\u001b[0m]   │\n",
              "│ (\u001b[38;5;33mLambda\u001b[0m)            │                   │            │                   │\n",
              "├─────────────────────┼───────────────────┼────────────┼───────────────────┤\n",
              "│ s2_add_positional_… │ (\u001b[38;5;34m1\u001b[0m, \u001b[38;5;34m30\u001b[0m, \u001b[38;5;34m64\u001b[0m)       │          \u001b[38;5;34m0\u001b[0m │ s2_embedding_pro… │\n",
              "│ (\u001b[38;5;33mAdd\u001b[0m)               │                   │            │                   │\n",
              "├─────────────────────┼───────────────────┼────────────┼───────────────────┤\n",
              "│ s2_attention_mask   │ (\u001b[38;5;45mNone\u001b[0m, \u001b[38;5;34m1\u001b[0m, \u001b[38;5;34m30\u001b[0m)     │          \u001b[38;5;34m0\u001b[0m │ s2_padding_mask[\u001b[38;5;34m…\u001b[0m │\n",
              "│ (\u001b[38;5;33mLambda\u001b[0m)            │                   │            │                   │\n",
              "├─────────────────────┼───────────────────┼────────────┼───────────────────┤\n",
              "│ sar_add_positional… │ (\u001b[38;5;34m1\u001b[0m, \u001b[38;5;34m60\u001b[0m, \u001b[38;5;34m64\u001b[0m)       │          \u001b[38;5;34m0\u001b[0m │ sar_embedding_pr… │\n",
              "│ (\u001b[38;5;33mAdd\u001b[0m)               │                   │            │                   │\n",
              "├─────────────────────┼───────────────────┼────────────┼───────────────────┤\n",
              "│ sar_attention_mask  │ (\u001b[38;5;45mNone\u001b[0m, \u001b[38;5;34m1\u001b[0m, \u001b[38;5;34m60\u001b[0m)     │          \u001b[38;5;34m0\u001b[0m │ sar_padding_mask… │\n",
              "│ (\u001b[38;5;33mLambda\u001b[0m)            │                   │            │                   │\n",
              "├─────────────────────┼───────────────────┼────────────┼───────────────────┤\n",
              "│ s2_transformer_blo… │ (\u001b[38;5;34m1\u001b[0m, \u001b[38;5;34m30\u001b[0m, \u001b[38;5;34m64\u001b[0m)       │     \u001b[38;5;34m33,472\u001b[0m │ s2_add_positiona… │\n",
              "│ (\u001b[38;5;33mTransformerEncode…\u001b[0m │                   │            │ s2_attention_mas… │\n",
              "├─────────────────────┼───────────────────┼────────────┼───────────────────┤\n",
              "│ sar_transformer_bl… │ (\u001b[38;5;34m1\u001b[0m, \u001b[38;5;34m60\u001b[0m, \u001b[38;5;34m64\u001b[0m)       │     \u001b[38;5;34m33,472\u001b[0m │ sar_add_position… │\n",
              "│ (\u001b[38;5;33mTransformerEncode…\u001b[0m │                   │            │ sar_attention_ma… │\n",
              "├─────────────────────┼───────────────────┼────────────┼───────────────────┤\n",
              "│ s2_global_avg_pool… │ (\u001b[38;5;34m1\u001b[0m, \u001b[38;5;34m64\u001b[0m)           │          \u001b[38;5;34m0\u001b[0m │ s2_transformer_b… │\n",
              "│ (\u001b[38;5;33mGlobalAveragePool…\u001b[0m │                   │            │ s2_padding_mask[\u001b[38;5;34m…\u001b[0m │\n",
              "├─────────────────────┼───────────────────┼────────────┼───────────────────┤\n",
              "│ sar_global_avg_poo… │ (\u001b[38;5;34m1\u001b[0m, \u001b[38;5;34m64\u001b[0m)           │          \u001b[38;5;34m0\u001b[0m │ sar_transformer_… │\n",
              "│ (\u001b[38;5;33mGlobalAveragePool…\u001b[0m │                   │            │ sar_padding_mask… │\n",
              "├─────────────────────┼───────────────────┼────────────┼───────────────────┤\n",
              "│ s2_pool_dropout     │ (\u001b[38;5;34m1\u001b[0m, \u001b[38;5;34m64\u001b[0m)           │          \u001b[38;5;34m0\u001b[0m │ s2_global_avg_po… │\n",
              "│ (\u001b[38;5;33mDropout\u001b[0m)           │                   │            │                   │\n",
              "├─────────────────────┼───────────────────┼────────────┼───────────────────┤\n",
              "│ sar_pool_dropout    │ (\u001b[38;5;34m1\u001b[0m, \u001b[38;5;34m64\u001b[0m)           │          \u001b[38;5;34m0\u001b[0m │ sar_global_avg_p… │\n",
              "│ (\u001b[38;5;33mDropout\u001b[0m)           │                   │            │                   │\n",
              "├─────────────────────┼───────────────────┼────────────┼───────────────────┤\n",
              "│ concatenate_branch… │ (\u001b[38;5;34m1\u001b[0m, \u001b[38;5;34m128\u001b[0m)          │          \u001b[38;5;34m0\u001b[0m │ s2_pool_dropout[\u001b[38;5;34m…\u001b[0m │\n",
              "│ (\u001b[38;5;33mConcatenate\u001b[0m)       │                   │            │ sar_pool_dropout… │\n",
              "├─────────────────────┼───────────────────┼────────────┼───────────────────┤\n",
              "│ combined_dense_1    │ (\u001b[38;5;34m1\u001b[0m, \u001b[38;5;34m64\u001b[0m)           │      \u001b[38;5;34m8,256\u001b[0m │ concatenate_bran… │\n",
              "│ (\u001b[38;5;33mDense\u001b[0m)             │                   │            │                   │\n",
              "├─────────────────────┼───────────────────┼────────────┼───────────────────┤\n",
              "│ combined_dropout    │ (\u001b[38;5;34m1\u001b[0m, \u001b[38;5;34m64\u001b[0m)           │          \u001b[38;5;34m0\u001b[0m │ combined_dense_1… │\n",
              "│ (\u001b[38;5;33mDropout\u001b[0m)           │                   │            │                   │\n",
              "├─────────────────────┼───────────────────┼────────────┼───────────────────┤\n",
              "│ output_layer        │ (\u001b[38;5;34m1\u001b[0m, \u001b[38;5;34m1\u001b[0m)            │         \u001b[38;5;34m65\u001b[0m │ combined_dropout… │\n",
              "│ (\u001b[38;5;33mDense\u001b[0m)             │                   │            │                   │\n",
              "└─────────────────────┴───────────────────┴────────────┴───────────────────┘\n"
            ]
          },
          "metadata": {},
          "output_type": "display_data"
        },
        {
          "data": {
            "text/html": [
              "<pre style=\"white-space:pre;overflow-x:auto;line-height:normal;font-family:Menlo,'DejaVu Sans Mono',consolas,'Courier New',monospace\"><span style=\"font-weight: bold\"> Total params: </span><span style=\"color: #00af00; text-decoration-color: #00af00\">76,929</span> (300.50 KB)\n",
              "</pre>\n"
            ],
            "text/plain": [
              "\u001b[1m Total params: \u001b[0m\u001b[38;5;34m76,929\u001b[0m (300.50 KB)\n"
            ]
          },
          "metadata": {},
          "output_type": "display_data"
        },
        {
          "data": {
            "text/html": [
              "<pre style=\"white-space:pre;overflow-x:auto;line-height:normal;font-family:Menlo,'DejaVu Sans Mono',consolas,'Courier New',monospace\"><span style=\"font-weight: bold\"> Trainable params: </span><span style=\"color: #00af00; text-decoration-color: #00af00\">76,929</span> (300.50 KB)\n",
              "</pre>\n"
            ],
            "text/plain": [
              "\u001b[1m Trainable params: \u001b[0m\u001b[38;5;34m76,929\u001b[0m (300.50 KB)\n"
            ]
          },
          "metadata": {},
          "output_type": "display_data"
        },
        {
          "data": {
            "text/html": [
              "<pre style=\"white-space:pre;overflow-x:auto;line-height:normal;font-family:Menlo,'DejaVu Sans Mono',consolas,'Courier New',monospace\"><span style=\"font-weight: bold\"> Non-trainable params: </span><span style=\"color: #00af00; text-decoration-color: #00af00\">0</span> (0.00 B)\n",
              "</pre>\n"
            ],
            "text/plain": [
              "\u001b[1m Non-trainable params: \u001b[0m\u001b[38;5;34m0\u001b[0m (0.00 B)\n"
            ]
          },
          "metadata": {},
          "output_type": "display_data"
        }
      ],
      "source": [
        "def positional_encoding(seq_length, embed_dim):\n",
        "    depth_half = embed_dim // 2\n",
        "\n",
        "    positions = np.arange(seq_length)[:, np.newaxis] \n",
        "\n",
        "    div_term_indices = np.arange(depth_half) / depth_half\n",
        "    div_term = np.power(10000.0, -div_term_indices) \n",
        "    \n",
        "    angles = positions * div_term[np.newaxis, :]\n",
        "\n",
        "    pe_sin = np.sin(angles) \n",
        "    pe_cos = np.cos(angles) \n",
        "\n",
        "    positional_encoding = np.concatenate([pe_sin, pe_cos], axis=-1) \n",
        "\n",
        "    positional_encoding = tf.cast(positional_encoding[np.newaxis, :, :], tf.float32) \n",
        "\n",
        "    if embed_dim % 2 != 0:\n",
        "        padding = tf.zeros((1, seq_length, 1), dtype=tf.float32)\n",
        "        positional_encoding = tf.concat([positional_encoding, padding], axis=-1)\n",
        "        \n",
        "    return positional_encoding\n",
        "\n",
        "class TransformerEncoderBlock(Layer):\n",
        "    def __init__(self, embed_dim, num_heads, ff_dim, dropout_rate, l2_reg_factor, **kwargs):\n",
        "        super().__init__(**kwargs)\n",
        "        self.embed_dim = embed_dim\n",
        "        self.num_heads = num_heads\n",
        "        self.ff_dim = ff_dim\n",
        "        self.dropout_rate = dropout_rate\n",
        "        self.l2_reg = regularizers.l2(l2_reg_factor)\n",
        "\n",
        "        self.mha = MultiHeadAttention(\n",
        "            num_heads=num_heads,\n",
        "            key_dim=embed_dim // num_heads, \n",
        "            kernel_regularizer=self.l2_reg,\n",
        "            name='multi_head_attention'\n",
        "        )\n",
        "\n",
        "        self.ffn = Sequential(\n",
        "            [\n",
        "                Dense(ff_dim, activation='relu', kernel_regularizer=self.l2_reg),\n",
        "                Dense(embed_dim, kernel_regularizer=self.l2_reg)\n",
        "            ],\n",
        "            name='feed_forward_network'\n",
        "        )\n",
        "\n",
        "        self.layernorm1 = LayerNormalization(epsilon=1e-6, name='layer_norm_1')\n",
        "        self.layernorm2 = LayerNormalization(epsilon=1e-6, name='layer_norm_2')\n",
        "\n",
        "        self.dropout1 = Dropout(dropout_rate, name='dropout_1')\n",
        "        self.dropout2 = Dropout(dropout_rate, name='dropout_2')\n",
        "\n",
        "    def call(self, inputs, training=False, attention_mask=None):\n",
        "        attn_output = self.mha(\n",
        "            query=inputs, value=inputs, key=inputs, \n",
        "            attention_mask=attention_mask,\n",
        "            training=training\n",
        "        )\n",
        "        attn_output = self.dropout1(attn_output, training=training)\n",
        "        out1 = self.layernorm1(inputs + attn_output) \n",
        "\n",
        "        ffn_output = self.ffn(out1, training=training)\n",
        "        ffn_output = self.dropout2(ffn_output, training=training)\n",
        "        out2 = self.layernorm2(out1 + ffn_output) \n",
        "\n",
        "        return out2\n",
        "\n",
        "    def get_config(self):\n",
        "        config = super().get_config()\n",
        "        config.update({\n",
        "            'embed_dim': self.embed_dim,\n",
        "            'num_heads': self.num_heads,\n",
        "            'ff_dim': self.ff_dim,\n",
        "            'dropout_rate': self.dropout_rate,\n",
        "            'l2_reg_factor': self.l2_reg.l2, \n",
        "        })\n",
        "        return config\n",
        "\n",
        "\n",
        "def build_dual_input_transformer(\n",
        "    s2_seq_len, s2_num_features, sar_seq_len, sar_num_features,\n",
        "    embed_dim, num_heads, ff_dim, num_transformer_blocks,\n",
        "    dropout_rate, l2_reg_factor):\n",
        "\n",
        "    l2_reg = regularizers.l2(l2_reg_factor)\n",
        "\n",
        "    input_s2 = Input(shape=(s2_seq_len, s2_num_features), name='s2_input')\n",
        "\n",
        "\n",
        "    s2_padding_mask = Lambda(\n",
        "        lambda x: tf.math.greater(tf.reduce_sum(tf.abs(x), axis=-1), 1e-9),\n",
        "        name='s2_padding_mask'\n",
        "    )(input_s2)\n",
        "\n",
        "    s2_attention_mask = Lambda(\n",
        "        lambda x: tf.cast(tf.expand_dims(x, axis=1), tf.float32),\n",
        "        name='s2_attention_mask'\n",
        "    )(s2_padding_mask)\n",
        "\n",
        "    s2_embedding = TimeDistributed(\n",
        "        Dense(embed_dim, activation='relu', kernel_regularizer=l2_reg),\n",
        "        name='s2_embedding_projection'\n",
        "    )(input_s2)\n",
        "\n",
        "   \n",
        "    s2_seq_encoding = positional_encoding(s2_seq_len, embed_dim)\n",
        "    x_s2 = Add(name='s2_add_positional_encoding')(\n",
        "        [s2_embedding, s2_seq_encoding[:, :s2_seq_len, :]]\n",
        "    )\n",
        "\n",
        "    for i in range(num_transformer_blocks):\n",
        "        x_s2 = TransformerEncoderBlock(\n",
        "            embed_dim, num_heads, ff_dim, dropout_rate, l2_reg_factor,\n",
        "            name=f's2_transformer_block_{i+1}'\n",
        "        )(x_s2, training=True, attention_mask=s2_attention_mask) \n",
        "\n",
        "    s2_pooled = GlobalAveragePooling1D(name='s2_global_avg_pooling')(\n",
        "        x_s2, mask=s2_padding_mask\n",
        "    )\n",
        "    s2_dropout = Dropout(dropout_rate, name='s2_pool_dropout')(s2_pooled)\n",
        "\n",
        "\n",
        "    input_sar = Input(shape=(sar_seq_len, sar_num_features), name='sar_input')\n",
        "\n",
        "\n",
        "    sar_padding_mask = Lambda(\n",
        "        lambda x: tf.math.greater(tf.reduce_sum(tf.abs(x), axis=-1), 1e-9),\n",
        "        name='sar_padding_mask'\n",
        "    )(input_sar)\n",
        "    sar_attention_mask = Lambda(\n",
        "        lambda x: tf.cast(tf.expand_dims(x, axis=1), tf.float32),\n",
        "        name='sar_attention_mask'\n",
        "    )(sar_padding_mask)\n",
        "\n",
        "\n",
        "    sar_embedding = TimeDistributed(\n",
        "        Dense(embed_dim, activation='relu', kernel_regularizer=l2_reg),\n",
        "        name='sar_embedding_projection'\n",
        "    )(input_sar)\n",
        "\n",
        "\n",
        "    sar_seq_encoding = positional_encoding(sar_seq_len, embed_dim)\n",
        "    x_sar = Add(name='sar_add_positional_encoding')(\n",
        "        [sar_embedding, sar_seq_encoding[:, :sar_seq_len, :]]\n",
        "    )\n",
        "\n",
        "    for i in range(num_transformer_blocks):\n",
        "        x_sar = TransformerEncoderBlock(\n",
        "            embed_dim, num_heads, ff_dim, dropout_rate, l2_reg_factor,\n",
        "            name=f'sar_transformer_block_{i+1}'\n",
        "        )(x_sar, training=True, attention_mask=sar_attention_mask) \n",
        "\n",
        "    sar_pooled = GlobalAveragePooling1D(name='sar_global_avg_pooling')(\n",
        "        x_sar, mask=sar_padding_mask\n",
        "    )\n",
        "    sar_dropout = Dropout(dropout_rate, name='sar_pool_dropout')(sar_pooled)\n",
        "\n",
        "    concatenated_features = Concatenate(name='concatenate_branches')([s2_dropout, sar_dropout])\n",
        "\n",
        "    hidden_layer = Dense(64, activation='relu', kernel_regularizer=l2_reg, name='combined_dense_1')(concatenated_features)\n",
        "    hidden_dropout = Dropout(dropout_rate, name='combined_dropout')(hidden_layer)\n",
        "\n",
        "    output_layer = Dense(1, activation='sigmoid', name='output_layer')(hidden_dropout)\n",
        "\n",
        "    model = Model(\n",
        "        inputs=[input_s2, input_sar],\n",
        "        outputs=output_layer,\n",
        "        name='DualInputTransformer'\n",
        "    )\n",
        "\n",
        "    return model\n",
        "\n",
        "\n",
        "min_embed_dim = max(N_S2_FEATURES_ACTUAL, N_SAR_FEATURES_ACTUAL, 64)\n",
        "embedding_dimension = (\n",
        "    (min_embed_dim + TRANSFORMER_HEADS - 1) // TRANSFORMER_HEADS\n",
        ") * TRANSFORMER_HEADS\n",
        "\n",
        "print(f\"Calculated Embedding Dimension: {embedding_dimension}\")\n",
        "\n",
        "model_tf = build_dual_input_transformer(\n",
        "    s2_seq_len=s2_pad.shape[1],             \n",
        "    s2_num_features=s2_pad.shape[2],        \n",
        "    sar_seq_len=sar_pad.shape[1],           \n",
        "    sar_num_features=sar_pad.shape[2],      \n",
        "    embed_dim=embedding_dimension,\n",
        "    num_heads=TRANSFORMER_HEADS,\n",
        "    ff_dim=TRANSFORMER_UNITS,            \n",
        "    num_transformer_blocks=TRANSFORMER_LAYERS,\n",
        "    dropout_rate=DROPOUT_RATE,\n",
        "    l2_reg_factor=L2_REG_FACTOR\n",
        ")\n",
        "\n",
        "\n",
        "model_tf.summary()"
      ]
    },
    {
      "cell_type": "markdown",
      "metadata": {
        "id": "eE8fdceaAIGu"
      },
      "source": [
        "### 9.1 Model Training with Early Stopping & LR Scheduling\n",
        "\n",
        "We compile the dual‑input Transformer with Adam (LR=5e‑4) and binary crossentropy, tracking accuracy, precision, and recall. Two callbacks guard against overfitting:\n",
        "\n",
        "- **EarlyStopping** (monitors `val_loss`, patience=10)  \n",
        "- **ReduceLROnPlateau** (reduces LR by 0.2 if `val_loss` stalls, patience=5)"
      ]
    },
    {
      "cell_type": "code",
      "execution_count": 133,
      "metadata": {
        "colab": {
          "base_uri": "https://localhost:8080/",
          "height": 932
        },
        "id": "FkpMmLCgAFPF",
        "outputId": "61ef2f22-0801-4810-b16c-4364f95e7bba"
      },
      "outputs": [
        {
          "name": "stdout",
          "output_type": "stream",
          "text": [
            "Epoch 1/25\n",
            "\u001b[1m45/45\u001b[0m \u001b[32m━━━━━━━━━━━━━━━━━━━━\u001b[0m\u001b[37m\u001b[0m \u001b[1m6s\u001b[0m 35ms/step - accuracy: 0.6159 - loss: 1.2406 - precision: 0.6179 - recall: 0.6716 - val_accuracy: 0.8977 - val_loss: 0.7762 - val_precision: 0.8366 - val_recall: 0.9883 - learning_rate: 5.0000e-04\n",
            "Epoch 2/25\n",
            "\u001b[1m45/45\u001b[0m \u001b[32m━━━━━━━━━━━━━━━━━━━━\u001b[0m\u001b[37m\u001b[0m \u001b[1m1s\u001b[0m 19ms/step - accuracy: 0.9130 - loss: 0.7897 - precision: 0.8936 - recall: 0.9417 - val_accuracy: 0.9327 - val_loss: 0.7326 - val_precision: 0.8895 - val_recall: 0.9883 - learning_rate: 5.0000e-04\n",
            "Epoch 3/25\n",
            "\u001b[1m45/45\u001b[0m \u001b[32m━━━━━━━━━━━━━━━━━━━━\u001b[0m\u001b[37m\u001b[0m \u001b[1m1s\u001b[0m 18ms/step - accuracy: 0.9730 - loss: 0.6218 - precision: 0.9537 - recall: 0.9952 - val_accuracy: 0.9708 - val_loss: 0.6344 - val_precision: 0.9548 - val_recall: 0.9883 - learning_rate: 5.0000e-04\n",
            "Epoch 4/25\n",
            "\u001b[1m45/45\u001b[0m \u001b[32m━━━━━━━━━━━━━━━━━━━━\u001b[0m\u001b[37m\u001b[0m \u001b[1m1s\u001b[0m 18ms/step - accuracy: 0.9874 - loss: 0.5690 - precision: 0.9764 - recall: 0.9976 - val_accuracy: 0.9678 - val_loss: 0.6165 - val_precision: 0.9545 - val_recall: 0.9825 - learning_rate: 5.0000e-04\n",
            "Epoch 5/25\n",
            "\u001b[1m45/45\u001b[0m \u001b[32m━━━━━━━━━━━━━━━━━━━━\u001b[0m\u001b[37m\u001b[0m \u001b[1m1s\u001b[0m 19ms/step - accuracy: 0.9942 - loss: 0.5177 - precision: 0.9891 - recall: 0.9995 - val_accuracy: 0.9737 - val_loss: 0.6055 - val_precision: 0.9602 - val_recall: 0.9883 - learning_rate: 5.0000e-04\n",
            "Epoch 6/25\n",
            "\u001b[1m45/45\u001b[0m \u001b[32m━━━━━━━━━━━━━━━━━━━━\u001b[0m\u001b[37m\u001b[0m \u001b[1m1s\u001b[0m 21ms/step - accuracy: 0.9975 - loss: 0.4839 - precision: 0.9950 - recall: 1.0000 - val_accuracy: 0.9912 - val_loss: 0.5494 - val_precision: 1.0000 - val_recall: 0.9825 - learning_rate: 5.0000e-04\n",
            "Epoch 7/25\n",
            "\u001b[1m45/45\u001b[0m \u001b[32m━━━━━━━━━━━━━━━━━━━━\u001b[0m\u001b[37m\u001b[0m \u001b[1m1s\u001b[0m 26ms/step - accuracy: 0.9942 - loss: 0.4682 - precision: 0.9919 - recall: 0.9964 - val_accuracy: 0.9737 - val_loss: 0.5590 - val_precision: 0.9655 - val_recall: 0.9825 - learning_rate: 5.0000e-04\n",
            "Epoch 8/25\n",
            "\u001b[1m45/45\u001b[0m \u001b[32m━━━━━━━━━━━━━━━━━━━━\u001b[0m\u001b[37m\u001b[0m \u001b[1m1s\u001b[0m 20ms/step - accuracy: 0.9931 - loss: 0.4503 - precision: 0.9893 - recall: 0.9973 - val_accuracy: 0.9883 - val_loss: 0.5105 - val_precision: 0.9941 - val_recall: 0.9825 - learning_rate: 5.0000e-04\n",
            "Epoch 9/25\n",
            "\u001b[1m45/45\u001b[0m \u001b[32m━━━━━━━━━━━━━━━━━━━━\u001b[0m\u001b[37m\u001b[0m \u001b[1m1s\u001b[0m 21ms/step - accuracy: 0.9990 - loss: 0.4140 - precision: 0.9981 - recall: 1.0000 - val_accuracy: 0.9883 - val_loss: 0.4957 - val_precision: 0.9941 - val_recall: 0.9825 - learning_rate: 5.0000e-04\n",
            "Epoch 10/25\n",
            "\u001b[1m45/45\u001b[0m \u001b[32m━━━━━━━━━━━━━━━━━━━━\u001b[0m\u001b[37m\u001b[0m \u001b[1m1s\u001b[0m 19ms/step - accuracy: 0.9943 - loss: 0.4022 - precision: 0.9890 - recall: 0.9988 - val_accuracy: 0.9825 - val_loss: 0.4885 - val_precision: 0.9825 - val_recall: 0.9825 - learning_rate: 5.0000e-04\n",
            "Epoch 11/25\n",
            "\u001b[1m45/45\u001b[0m \u001b[32m━━━━━━━━━━━━━━━━━━━━\u001b[0m\u001b[37m\u001b[0m \u001b[1m1s\u001b[0m 18ms/step - accuracy: 0.9984 - loss: 0.3787 - precision: 0.9967 - recall: 1.0000 - val_accuracy: 0.9795 - val_loss: 0.4816 - val_precision: 0.9767 - val_recall: 0.9825 - learning_rate: 5.0000e-04\n",
            "Epoch 12/25\n",
            "\u001b[1m45/45\u001b[0m \u001b[32m━━━━━━━━━━━━━━━━━━━━\u001b[0m\u001b[37m\u001b[0m \u001b[1m1s\u001b[0m 19ms/step - accuracy: 0.9989 - loss: 0.3551 - precision: 0.9979 - recall: 1.0000 - val_accuracy: 0.9825 - val_loss: 0.4562 - val_precision: 0.9825 - val_recall: 0.9825 - learning_rate: 5.0000e-04\n",
            "Epoch 13/25\n",
            "\u001b[1m45/45\u001b[0m \u001b[32m━━━━━━━━━━━━━━━━━━━━\u001b[0m\u001b[37m\u001b[0m \u001b[1m1s\u001b[0m 19ms/step - accuracy: 0.9996 - loss: 0.3382 - precision: 0.9992 - recall: 1.0000 - val_accuracy: 0.9766 - val_loss: 0.4700 - val_precision: 0.9711 - val_recall: 0.9825 - learning_rate: 5.0000e-04\n",
            "Epoch 14/25\n",
            "\u001b[1m45/45\u001b[0m \u001b[32m━━━━━━━━━━━━━━━━━━━━\u001b[0m\u001b[37m\u001b[0m \u001b[1m1s\u001b[0m 19ms/step - accuracy: 0.9999 - loss: 0.3215 - precision: 0.9999 - recall: 1.0000 - val_accuracy: 0.9912 - val_loss: 0.4270 - val_precision: 1.0000 - val_recall: 0.9825 - learning_rate: 5.0000e-04\n",
            "Epoch 15/25\n",
            "\u001b[1m45/45\u001b[0m \u001b[32m━━━━━━━━━━━━━━━━━━━━\u001b[0m\u001b[37m\u001b[0m \u001b[1m1s\u001b[0m 19ms/step - accuracy: 0.9936 - loss: 0.3245 - precision: 0.9919 - recall: 0.9954 - val_accuracy: 0.9854 - val_loss: 0.4066 - val_precision: 0.9882 - val_recall: 0.9825 - learning_rate: 5.0000e-04\n",
            "Epoch 16/25\n",
            "\u001b[1m45/45\u001b[0m \u001b[32m━━━━━━━━━━━━━━━━━━━━\u001b[0m\u001b[37m\u001b[0m \u001b[1m1s\u001b[0m 18ms/step - accuracy: 0.9993 - loss: 0.2937 - precision: 1.0000 - recall: 0.9985 - val_accuracy: 0.9854 - val_loss: 0.3962 - val_precision: 0.9882 - val_recall: 0.9825 - learning_rate: 5.0000e-04\n",
            "Epoch 17/25\n",
            "\u001b[1m45/45\u001b[0m \u001b[32m━━━━━━━━━━━━━━━━━━━━\u001b[0m\u001b[37m\u001b[0m \u001b[1m1s\u001b[0m 18ms/step - accuracy: 0.9999 - loss: 0.2775 - precision: 0.9997 - recall: 1.0000 - val_accuracy: 0.9854 - val_loss: 0.3807 - val_precision: 0.9882 - val_recall: 0.9825 - learning_rate: 5.0000e-04\n",
            "Epoch 18/25\n",
            "\u001b[1m45/45\u001b[0m \u001b[32m━━━━━━━━━━━━━━━━━━━━\u001b[0m\u001b[37m\u001b[0m \u001b[1m1s\u001b[0m 20ms/step - accuracy: 1.0000 - loss: 0.2644 - precision: 1.0000 - recall: 1.0000 - val_accuracy: 0.9825 - val_loss: 0.3757 - val_precision: 0.9825 - val_recall: 0.9825 - learning_rate: 5.0000e-04\n",
            "Epoch 19/25\n",
            "\u001b[1m45/45\u001b[0m \u001b[32m━━━━━━━━━━━━━━━━━━━━\u001b[0m\u001b[37m\u001b[0m \u001b[1m1s\u001b[0m 20ms/step - accuracy: 1.0000 - loss: 0.2512 - precision: 1.0000 - recall: 1.0000 - val_accuracy: 0.9825 - val_loss: 0.3637 - val_precision: 0.9825 - val_recall: 0.9825 - learning_rate: 5.0000e-04\n",
            "Epoch 20/25\n",
            "\u001b[1m45/45\u001b[0m \u001b[32m━━━━━━━━━━━━━━━━━━━━\u001b[0m\u001b[37m\u001b[0m \u001b[1m1s\u001b[0m 19ms/step - accuracy: 1.0000 - loss: 0.2380 - precision: 1.0000 - recall: 1.0000 - val_accuracy: 0.9825 - val_loss: 0.3508 - val_precision: 0.9825 - val_recall: 0.9825 - learning_rate: 5.0000e-04\n",
            "Epoch 21/25\n",
            "\u001b[1m45/45\u001b[0m \u001b[32m━━━━━━━━━━━━━━━━━━━━\u001b[0m\u001b[37m\u001b[0m \u001b[1m1s\u001b[0m 19ms/step - accuracy: 1.0000 - loss: 0.2275 - precision: 1.0000 - recall: 1.0000 - val_accuracy: 0.9825 - val_loss: 0.3409 - val_precision: 0.9825 - val_recall: 0.9825 - learning_rate: 5.0000e-04\n",
            "Epoch 22/25\n",
            "\u001b[1m45/45\u001b[0m \u001b[32m━━━━━━━━━━━━━━━━━━━━\u001b[0m\u001b[37m\u001b[0m \u001b[1m1s\u001b[0m 20ms/step - accuracy: 1.0000 - loss: 0.2151 - precision: 1.0000 - recall: 1.0000 - val_accuracy: 0.9854 - val_loss: 0.3301 - val_precision: 0.9882 - val_recall: 0.9825 - learning_rate: 5.0000e-04\n",
            "Epoch 23/25\n",
            "\u001b[1m45/45\u001b[0m \u001b[32m━━━━━━━━━━━━━━━━━━━━\u001b[0m\u001b[37m\u001b[0m \u001b[1m1s\u001b[0m 18ms/step - accuracy: 1.0000 - loss: 0.2056 - precision: 1.0000 - recall: 1.0000 - val_accuracy: 0.9825 - val_loss: 0.3232 - val_precision: 0.9825 - val_recall: 0.9825 - learning_rate: 5.0000e-04\n",
            "Epoch 24/25\n",
            "\u001b[1m45/45\u001b[0m \u001b[32m━━━━━━━━━━━━━━━━━━━━\u001b[0m\u001b[37m\u001b[0m \u001b[1m1s\u001b[0m 18ms/step - accuracy: 0.9989 - loss: 0.1956 - precision: 0.9978 - recall: 1.0000 - val_accuracy: 0.9795 - val_loss: 0.3235 - val_precision: 0.9767 - val_recall: 0.9825 - learning_rate: 5.0000e-04\n",
            "Epoch 25/25\n",
            "\u001b[1m45/45\u001b[0m \u001b[32m━━━━━━━━━━━━━━━━━━━━\u001b[0m\u001b[37m\u001b[0m \u001b[1m1s\u001b[0m 17ms/step - accuracy: 1.0000 - loss: 0.1862 - precision: 1.0000 - recall: 1.0000 - val_accuracy: 0.9825 - val_loss: 0.3044 - val_precision: 0.9825 - val_recall: 0.9825 - learning_rate: 5.0000e-04\n",
            "Restoring model weights from the end of the best epoch: 25.\n"
          ]
        },
        {
          "data": {
            "image/png": "[encoded data removed]",
            "text/plain": [
              "<Figure size 1200x400 with 1 Axes>"
            ]
          },
          "metadata": {},
          "output_type": "display_data"
        }
      ],
      "source": [
        "def train_keras_model(model, X_tr_s2, X_tr_sar, y_tr, X_val_s2, X_val_sar, y_val):\n",
        "    model.compile(\n",
        "        optimizer=tf.keras.optimizers.Adam(learning_rate=LEARNING_RATE),\n",
        "        loss='binary_crossentropy',\n",
        "        metrics=['accuracy', Precision(name='precision'), Recall(name='recall')]\n",
        "    )\n",
        "\n",
        "    callbacks = []\n",
        "    if len(y_val) > 0:\n",
        "        callbacks = [\n",
        "            EarlyStopping(\n",
        "                monitor='val_loss',        \n",
        "                patience=PATIENCE,         \n",
        "                restore_best_weights=True,\n",
        "                verbose=1\n",
        "            ),\n",
        "            ReduceLROnPlateau(\n",
        "                monitor='val_loss',\n",
        "                factor=0.2,\n",
        "                patience=PATIENCE // 2,\n",
        "                min_lr=LEARNING_RATE / 100,\n",
        "                verbose=1\n",
        "            )\n",
        "        ]\n",
        "\n",
        "    history = model.fit(\n",
        "        [X_tr_s2, X_tr_sar], y_tr,\n",
        "        validation_data=([X_val_s2, X_val_sar], y_val) if len(y_val) > 0 else None,\n",
        "        epochs=EPOCHS,\n",
        "        batch_size=BATCH_SIZE,\n",
        "        callbacks=callbacks,\n",
        "        verbose=1\n",
        "    )\n",
        "\n",
        "    plt.figure(figsize=(12,4))\n",
        "    plt.plot(history.history['loss'], label='train loss')\n",
        "    if 'val_loss' in history.history:\n",
        "        plt.plot(history.history['val_loss'], label='val loss')\n",
        "    plt.legend(); plt.title('Loss')\n",
        "\n",
        "    return history\n",
        "\n",
        "hist = train_keras_model(\n",
        "    model_tf,\n",
        "    s2_pad[train_idx], sar_pad[train_idx], labels[train_idx],\n",
        "    s2_pad[val_idx] if val_idx else np.empty((0,)),\n",
        "    sar_pad[val_idx] if val_idx else np.empty((0,)),\n",
        "    labels[val_idx] if val_idx else np.array([])\n",
        ")\n"
      ]
    },
    {
      "cell_type": "markdown",
      "metadata": {
        "id": "5LiF9PgSANxU"
      },
      "source": [
        "### 9.2 Test Set Evaluation\n",
        "\n",
        "Evaluating the restored best model on the 2024 hold‑out set\n",
        "\n",
        "The confusion matrix shows only a handful of misclassifications in both directions, confirming that the Transformer reliably captures the temporal signatures of stubble burning.  "
      ]
    },
    {
      "cell_type": "code",
      "execution_count": 134,
      "metadata": {
        "colab": {
          "base_uri": "https://localhost:8080/",
          "height": 660
        },
        "id": "FatonbwfAKKC",
        "outputId": "81344412-e8b1-4286-dc5d-2a215cce03d9"
      },
      "outputs": [
        {
          "name": "stdout",
          "output_type": "stream",
          "text": [
            "\u001b[1m11/11\u001b[0m \u001b[32m━━━━━━━━━━━━━━━━━━━━\u001b[0m\u001b[37m\u001b[0m \u001b[1m1s\u001b[0m 53ms/step\n",
            "\n",
            "Transformer Test → Loss: 0.2870, Acc: 0.9914, F1: 0.9915\n",
            "              precision    recall  f1-score   support\n",
            "\n",
            "           0       0.99      0.99      0.99       175\n",
            "           1       0.99      0.99      0.99       175\n",
            "\n",
            "    accuracy                           0.99       350\n",
            "   macro avg       0.99      0.99      0.99       350\n",
            "weighted avg       0.99      0.99      0.99       350\n",
            "\n"
          ]
        },
        {
          "data": {
            "image/png": "[encoded data removed]",
            "text/plain": [
              "<Figure size 640x480 with 2 Axes>"
            ]
          },
          "metadata": {},
          "output_type": "display_data"
        }
      ],
      "source": [
        "loss, acc, prec, rec = model_tf.evaluate([s2_pad[test_idx], sar_pad[test_idx]], labels[test_idx], verbose=0)\n",
        "yp = (model_tf.predict([s2_pad[test_idx], sar_pad[test_idx]]).ravel()>0.5).astype(int)\n",
        "f1 = f1_score(labels[test_idx], yp)\n",
        "print(f\"\\nTransformer Test → Loss: {loss:.4f}, Acc: {acc:.4f}, F1: {f1:.4f}\")\n",
        "print(classification_report(labels[test_idx], yp, zero_division=0))\n",
        "cm = confusion_matrix(labels[test_idx], yp)\n",
        "sns.heatmap(cm, annot=True, fmt='d', cmap='Blues')\n",
        "plt.title(\"Transformer Confusion Matrix\"); plt.show()\n",
        "results['DualInputTransformer']={'Accuracy':acc,'F1':f1}"
      ]
    },
    {
      "cell_type": "markdown",
      "metadata": {
        "id": "M3aXYEgWAQw0"
      },
      "source": [
        "## 10. Final Results Summary\n",
        "\n",
        "Display the accumulated test‑set metrics for both models.\n"
      ]
    },
    {
      "cell_type": "code",
      "execution_count": null,
      "metadata": {
        "colab": {
          "base_uri": "https://localhost:8080/",
          "height": 146
        },
        "id": "IsHELF9OARMV",
        "outputId": "c7a4cf41-cd17-4e7c-a964-25a9fe2a4613"
      },
      "outputs": [
        {
          "name": "stdout",
          "output_type": "stream",
          "text": [
            "\n",
            "=== Overall Test Results ===\n"
          ]
        },
        {
          "data": {
            "text/html": [
              "<div>\n",
              "<style scoped>\n",
              "    .dataframe tbody tr th:only-of-type {\n",
              "        vertical-align: middle;\n",
              "    }\n",
              "\n",
              "    .dataframe tbody tr th {\n",
              "        vertical-align: top;\n",
              "    }\n",
              "\n",
              "    .dataframe thead th {\n",
              "        text-align: right;\n",
              "    }\n",
              "</style>\n",
              "<table border=\"1\" class=\"dataframe\">\n",
              "  <thead>\n",
              "    <tr style=\"text-align: right;\">\n",
              "      <th></th>\n",
              "      <th>Accuracy</th>\n",
              "      <th>F1</th>\n",
              "    </tr>\n",
              "  </thead>\n",
              "  <tbody>\n",
              "    <tr>\n",
              "      <th>RandomForest</th>\n",
              "      <td>0.5000</td>\n",
              "      <td>0.0000</td>\n",
              "    </tr>\n",
              "    <tr>\n",
              "      <th>DualInputTransformer</th>\n",
              "      <td>0.9914</td>\n",
              "      <td>0.9915</td>\n",
              "    </tr>\n",
              "  </tbody>\n",
              "</table>\n",
              "</div>"
            ],
            "text/plain": [
              "                      Accuracy      F1\n",
              "RandomForest            0.5000  0.0000\n",
              "DualInputTransformer    0.9914  0.9915"
            ]
          },
          "execution_count": 135,
          "metadata": {},
          "output_type": "execute_result"
        }
      ],
      "source": [
        "print(\"\\n=== Overall Test Results ===\")\n",
        "pd.DataFrame(results).T[['Accuracy','F1']].round(4)"
      ]
    },
    {
      "cell_type": "markdown",
      "metadata": {},
      "source": []
    }
  ],
  "metadata": {
    "accelerator": "GPU",
    "colab": {
      "gpuType": "T4",
      "provenance": []
    },
    "kernelspec": {
      "display_name": "Python 3",
      "name": "python3"
    },
    "language_info": {
      "codemirror_mode": {
        "name": "ipython",
        "version": 3
      },
      "file_extension": ".py",
      "mimetype": "text/x-python",
      "name": "python",
      "nbconvert_exporter": "python",
      "pygments_lexer": "ipython3",
      "version": "3.9.6"
    }
  },
  "nbformat": 4,
  "nbformat_minor": 0
}
